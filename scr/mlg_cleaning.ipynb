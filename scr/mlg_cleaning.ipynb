{
 "cells": [
  {
   "cell_type": "markdown",
   "id": "a24de862",
   "metadata": {},
   "source": [
    "# Wellcome to Marina Luque's data cleaning pipeline"
   ]
  },
  {
   "cell_type": "markdown",
   "id": "6fe2ddcb",
   "metadata": {},
   "source": [
    "### 1. Set working directory, load modules and set global ipynb properties¶"
   ]
  },
  {
   "cell_type": "code",
   "execution_count": 43,
   "id": "f07ff8b1",
   "metadata": {
    "scrolled": true
   },
   "outputs": [
    {
     "name": "stdout",
     "output_type": "stream",
     "text": [
      "/Users/Marina/AMAYA_UBUNTU/PY_PROJECTS/IRONHACK/PROJECTS/Data_Sharkleaner/scr\n",
      "\u001b[34m__pycache__\u001b[m\u001b[m          dataanalysis_fun1.py mlg_cleaning.ipynb\n",
      "/bin/bash: line 0: cd: scr: No such file or directory\n",
      "\u001b[34m__pycache__\u001b[m\u001b[m          dataanalysis_fun1.py mlg_cleaning.ipynb\n"
     ]
    }
   ],
   "source": [
    "!pwd\n",
    "!ls\n",
    "!cd scr\n",
    "!ls"
   ]
  },
  {
   "cell_type": "code",
   "execution_count": 14,
   "id": "651d3d97",
   "metadata": {},
   "outputs": [
    {
     "name": "stdout",
     "output_type": "stream",
     "text": [
      "/Users/Marina/AMAYA_UBUNTU/PY_PROJECTS/IRONHACK/PROJECTS/Data_Sharkleaner/scr\n"
     ]
    }
   ],
   "source": [
    "import os\n",
    "os.chdir(\"/Users/Marina/AMAYA_UBUNTU/PY_PROJECTS/IRONHACK/PROJECTS/Data_Sharkleaner/scr\")\n",
    "current_directory = os.getcwd()\n",
    "print(current_directory)"
   ]
  },
  {
   "cell_type": "code",
   "execution_count": 15,
   "id": "735dac6f",
   "metadata": {},
   "outputs": [
    {
     "name": "stdout",
     "output_type": "stream",
     "text": [
      "dataanalysis_fun1.py mlg_cleaning.ipynb\r\n"
     ]
    }
   ],
   "source": [
    "!ls"
   ]
  },
  {
   "cell_type": "code",
   "execution_count": 38,
   "id": "bb1f62dd",
   "metadata": {},
   "outputs": [],
   "source": [
    "import pandas as pd\n",
    "import numpy as np\n",
    "import re\n",
    "\n",
    "np.random.seed(42)\n",
    "pd.set_option('display.max_columns', None) # mostrar todas las columnas\n",
    "\n",
    "# pa pintar \n",
    "# para que salga el grafico como output en jupyter\n",
    "%matplotlib inline \n",
    "\n",
    "import warnings\n",
    "warnings.filterwarnings('ignore') # ignorar warnings\n",
    "\n",
    "import pylab as plt   # import matplotlib.pyplot as plt\n",
    "import seaborn as sns\n",
    "\n"
   ]
  },
  {
   "cell_type": "markdown",
   "id": "926c141c",
   "metadata": {},
   "source": [
    "#### <span style=\"color: #e74c3c\"><b>  IMPORT MY OWN FUNCTIONS"
   ]
  },
  {
   "cell_type": "code",
   "execution_count": 218,
   "id": "ea4850b0",
   "metadata": {},
   "outputs": [],
   "source": [
    "import dataanalysis_fun1 as mlg\n",
    "#del mlg\n",
    "#import dataanalysis_fun1 as mlg"
   ]
  },
  {
   "cell_type": "markdown",
   "id": "c14a3097",
   "metadata": {},
   "source": [
    "#### When I make modifications in the functions, I need to detatch the module and load it again!"
   ]
  },
  {
   "cell_type": "code",
   "execution_count": 219,
   "id": "7b6a209e",
   "metadata": {},
   "outputs": [
    {
     "data": {
      "text/plain": [
       "<module 'dataanalysis_fun1' from '/Users/Marina/AMAYA_UBUNTU/PY_PROJECTS/IRONHACK/PROJECTS/Data_Sharkleaner/scr/dataanalysis_fun1.py'>"
      ]
     },
     "execution_count": 219,
     "metadata": {},
     "output_type": "execute_result"
    }
   ],
   "source": [
    "import importlib\n",
    "import dataanalysis_fun1  # Import the module\n",
    "importlib.reload(dataanalysis_fun1)  # Reload the module"
   ]
  },
  {
   "cell_type": "markdown",
   "id": "7c7d893d",
   "metadata": {},
   "source": [
    "### 2. Load raw data frame"
   ]
  },
  {
   "cell_type": "code",
   "execution_count": 365,
   "id": "df926d25",
   "metadata": {},
   "outputs": [],
   "source": [
    "sharks_raw = pd.read_csv('../data/attacks.csv', encoding =\"latin1\")\n",
    "sharks = sharks_raw.copy()"
   ]
  },
  {
   "cell_type": "markdown",
   "id": "3f71959d",
   "metadata": {},
   "source": [
    "### 3. Explore basic properties"
   ]
  },
  {
   "cell_type": "code",
   "execution_count": 366,
   "id": "76f5173f",
   "metadata": {
    "scrolled": true
   },
   "outputs": [
    {
     "name": "stdout",
     "output_type": "stream",
     "text": [
      "\n",
      "\n"
     ]
    },
    {
     "data": {
      "text/plain": [
       "(25723, 24)"
      ]
     },
     "metadata": {},
     "output_type": "display_data"
    },
    {
     "name": "stdout",
     "output_type": "stream",
     "text": [
      "\n",
      "\n",
      "<class 'pandas.core.frame.DataFrame'>\n",
      "RangeIndex: 25723 entries, 0 to 25722\n",
      "Data columns (total 24 columns):\n",
      " #   Column                  Non-Null Count  Dtype  \n",
      "---  ------                  --------------  -----  \n",
      " 0   Case Number             8702 non-null   object \n",
      " 1   Date                    6302 non-null   object \n",
      " 2   Year                    6300 non-null   float64\n",
      " 3   Type                    6298 non-null   object \n",
      " 4   Country                 6252 non-null   object \n",
      " 5   Area                    5847 non-null   object \n",
      " 6   Location                5762 non-null   object \n",
      " 7   Activity                5758 non-null   object \n",
      " 8   Name                    6092 non-null   object \n",
      " 9   Sex                     5737 non-null   object \n",
      " 10  Age                     3471 non-null   object \n",
      " 11  Injury                  6274 non-null   object \n",
      " 12  Fatal (Y/N)             5763 non-null   object \n",
      " 13  Time                    2948 non-null   object \n",
      " 14  Species                 3464 non-null   object \n",
      " 15  Investigator or Source  6285 non-null   object \n",
      " 16  pdf                     6302 non-null   object \n",
      " 17  href formula            6301 non-null   object \n",
      " 18  href                    6302 non-null   object \n",
      " 19  Case Number.1           6302 non-null   object \n",
      " 20  Case Number.2           6302 non-null   object \n",
      " 21  original order          6309 non-null   float64\n",
      " 22  Unnamed: 22             1 non-null      object \n",
      " 23  Unnamed: 23             2 non-null      object \n",
      "dtypes: float64(2), object(22)\n",
      "memory usage: 4.7+ MB\n"
     ]
    }
   ],
   "source": [
    "print(\"\\n\")\n",
    "display(sharks.shape)\n",
    "print(\"\\n\")\n",
    "sharks.info()"
   ]
  },
  {
   "cell_type": "code",
   "execution_count": 367,
   "id": "0ad92fc0",
   "metadata": {
    "scrolled": true
   },
   "outputs": [
    {
     "data": {
      "image/png": "[encoded data removed]",
      "text/plain": [
       "<Figure size 1000x600 with 1 Axes>"
      ]
     },
     "metadata": {},
     "output_type": "display_data"
    }
   ],
   "source": [
    "mlg.na_heatmap(sharks)"
   ]
  },
  {
   "cell_type": "markdown",
   "id": "909c2b4d",
   "metadata": {},
   "source": [
    "## 4. Cleaning steps\n",
    "\n",
    "### 4.0 Remame columns if neccessary\n",
    "\n",
    "I replaced the column name \"se\" for \"sex\""
   ]
  },
  {
   "cell_type": "code",
   "execution_count": 375,
   "id": "7ebac3f7",
   "metadata": {},
   "outputs": [
    {
     "data": {
      "text/html": [
       "<div>\n",
       "<style scoped>\n",
       "    .dataframe tbody tr th:only-of-type {\n",
       "        vertical-align: middle;\n",
       "    }\n",
       "\n",
       "    .dataframe tbody tr th {\n",
       "        vertical-align: top;\n",
       "    }\n",
       "\n",
       "    .dataframe thead th {\n",
       "        text-align: right;\n",
       "    }\n",
       "</style>\n",
       "<table border=\"1\" class=\"dataframe\">\n",
       "  <thead>\n",
       "    <tr style=\"text-align: right;\">\n",
       "      <th></th>\n",
       "      <th>case_number</th>\n",
       "      <th>date</th>\n",
       "      <th>year</th>\n",
       "      <th>type</th>\n",
       "      <th>country</th>\n",
       "      <th>area</th>\n",
       "      <th>location</th>\n",
       "      <th>activity</th>\n",
       "      <th>name</th>\n",
       "      <th>sex</th>\n",
       "      <th>age</th>\n",
       "      <th>injury</th>\n",
       "      <th>fatal_y_n</th>\n",
       "      <th>time</th>\n",
       "      <th>specie</th>\n",
       "      <th>investigator_or_source</th>\n",
       "      <th>pdf</th>\n",
       "      <th>href_formula</th>\n",
       "      <th>href</th>\n",
       "      <th>case_number_1</th>\n",
       "      <th>case_number_2</th>\n",
       "      <th>original_order</th>\n",
       "      <th>unnamed_22</th>\n",
       "      <th>unnamed_23</th>\n",
       "    </tr>\n",
       "  </thead>\n",
       "  <tbody>\n",
       "    <tr>\n",
       "      <th>0</th>\n",
       "      <td>2018.06.25</td>\n",
       "      <td>25-Jun-2018</td>\n",
       "      <td>2018.0</td>\n",
       "      <td>Boating</td>\n",
       "      <td>USA</td>\n",
       "      <td>California</td>\n",
       "      <td>Oceanside, San Diego County</td>\n",
       "      <td>Paddling</td>\n",
       "      <td>Julie Wolfe</td>\n",
       "      <td>F</td>\n",
       "      <td>57</td>\n",
       "      <td>No injury to occupant, outrigger canoe and pad...</td>\n",
       "      <td>N</td>\n",
       "      <td>18h00</td>\n",
       "      <td>White shark</td>\n",
       "      <td>R. Collier, GSAF</td>\n",
       "      <td>2018.06.25-Wolfe.pdf</td>\n",
       "      <td>http://sharkattackfile.net/spreadsheets/pdf_di...</td>\n",
       "      <td>http://sharkattackfile.net/spreadsheets/pdf_di...</td>\n",
       "      <td>2018.06.25</td>\n",
       "      <td>2018.06.25</td>\n",
       "      <td>6303.0</td>\n",
       "      <td>NaN</td>\n",
       "      <td>NaN</td>\n",
       "    </tr>\n",
       "    <tr>\n",
       "      <th>1</th>\n",
       "      <td>2018.06.18</td>\n",
       "      <td>18-Jun-2018</td>\n",
       "      <td>2018.0</td>\n",
       "      <td>Unprovoked</td>\n",
       "      <td>USA</td>\n",
       "      <td>Georgia</td>\n",
       "      <td>St. Simon Island, Glynn County</td>\n",
       "      <td>Standing</td>\n",
       "      <td>Adyson McNeely</td>\n",
       "      <td>F</td>\n",
       "      <td>11</td>\n",
       "      <td>Minor injury to left thigh</td>\n",
       "      <td>N</td>\n",
       "      <td>14h00  -15h00</td>\n",
       "      <td>NaN</td>\n",
       "      <td>K.McMurray, TrackingSharks.com</td>\n",
       "      <td>2018.06.18-McNeely.pdf</td>\n",
       "      <td>http://sharkattackfile.net/spreadsheets/pdf_di...</td>\n",
       "      <td>http://sharkattackfile.net/spreadsheets/pdf_di...</td>\n",
       "      <td>2018.06.18</td>\n",
       "      <td>2018.06.18</td>\n",
       "      <td>6302.0</td>\n",
       "      <td>NaN</td>\n",
       "      <td>NaN</td>\n",
       "    </tr>\n",
       "    <tr>\n",
       "      <th>2</th>\n",
       "      <td>2018.06.09</td>\n",
       "      <td>09-Jun-2018</td>\n",
       "      <td>2018.0</td>\n",
       "      <td>Invalid</td>\n",
       "      <td>USA</td>\n",
       "      <td>Hawaii</td>\n",
       "      <td>Habush, Oahu</td>\n",
       "      <td>Surfing</td>\n",
       "      <td>John Denges</td>\n",
       "      <td>M</td>\n",
       "      <td>48</td>\n",
       "      <td>Injury to left lower leg from surfboard skeg</td>\n",
       "      <td>N</td>\n",
       "      <td>07h45</td>\n",
       "      <td>NaN</td>\n",
       "      <td>K.McMurray, TrackingSharks.com</td>\n",
       "      <td>2018.06.09-Denges.pdf</td>\n",
       "      <td>http://sharkattackfile.net/spreadsheets/pdf_di...</td>\n",
       "      <td>http://sharkattackfile.net/spreadsheets/pdf_di...</td>\n",
       "      <td>2018.06.09</td>\n",
       "      <td>2018.06.09</td>\n",
       "      <td>6301.0</td>\n",
       "      <td>NaN</td>\n",
       "      <td>NaN</td>\n",
       "    </tr>\n",
       "    <tr>\n",
       "      <th>3</th>\n",
       "      <td>2018.06.08</td>\n",
       "      <td>08-Jun-2018</td>\n",
       "      <td>2018.0</td>\n",
       "      <td>Unprovoked</td>\n",
       "      <td>AUSTRALIA</td>\n",
       "      <td>New South Wales</td>\n",
       "      <td>Arrawarra Headland</td>\n",
       "      <td>Surfing</td>\n",
       "      <td>male</td>\n",
       "      <td>M</td>\n",
       "      <td>NaN</td>\n",
       "      <td>Minor injury to lower leg</td>\n",
       "      <td>N</td>\n",
       "      <td>NaN</td>\n",
       "      <td>2 m shark</td>\n",
       "      <td>B. Myatt, GSAF</td>\n",
       "      <td>2018.06.08-Arrawarra.pdf</td>\n",
       "      <td>http://sharkattackfile.net/spreadsheets/pdf_di...</td>\n",
       "      <td>http://sharkattackfile.net/spreadsheets/pdf_di...</td>\n",
       "      <td>2018.06.08</td>\n",
       "      <td>2018.06.08</td>\n",
       "      <td>6300.0</td>\n",
       "      <td>NaN</td>\n",
       "      <td>NaN</td>\n",
       "    </tr>\n",
       "    <tr>\n",
       "      <th>4</th>\n",
       "      <td>2018.06.04</td>\n",
       "      <td>04-Jun-2018</td>\n",
       "      <td>2018.0</td>\n",
       "      <td>Provoked</td>\n",
       "      <td>MEXICO</td>\n",
       "      <td>Colima</td>\n",
       "      <td>La Ticla</td>\n",
       "      <td>Free diving</td>\n",
       "      <td>Gustavo Ramos</td>\n",
       "      <td>M</td>\n",
       "      <td>NaN</td>\n",
       "      <td>Lacerations to leg &amp; hand shark PROVOKED INCIDENT</td>\n",
       "      <td>N</td>\n",
       "      <td>NaN</td>\n",
       "      <td>Tiger shark, 3m</td>\n",
       "      <td>A .Kipper</td>\n",
       "      <td>2018.06.04-Ramos.pdf</td>\n",
       "      <td>http://sharkattackfile.net/spreadsheets/pdf_di...</td>\n",
       "      <td>http://sharkattackfile.net/spreadsheets/pdf_di...</td>\n",
       "      <td>2018.06.04</td>\n",
       "      <td>2018.06.04</td>\n",
       "      <td>6299.0</td>\n",
       "      <td>NaN</td>\n",
       "      <td>NaN</td>\n",
       "    </tr>\n",
       "  </tbody>\n",
       "</table>\n",
       "</div>"
      ],
      "text/plain": [
       "  case_number         date    year        type    country             area  \\\n",
       "0  2018.06.25  25-Jun-2018  2018.0     Boating        USA       California   \n",
       "1  2018.06.18  18-Jun-2018  2018.0  Unprovoked        USA          Georgia   \n",
       "2  2018.06.09  09-Jun-2018  2018.0     Invalid        USA           Hawaii   \n",
       "3  2018.06.08  08-Jun-2018  2018.0  Unprovoked  AUSTRALIA  New South Wales   \n",
       "4  2018.06.04  04-Jun-2018  2018.0    Provoked     MEXICO           Colima   \n",
       "\n",
       "                         location     activity             name sex  age  \\\n",
       "0     Oceanside, San Diego County     Paddling      Julie Wolfe   F   57   \n",
       "1  St. Simon Island, Glynn County     Standing  Adyson McNeely    F   11   \n",
       "2                    Habush, Oahu      Surfing      John Denges   M   48   \n",
       "3              Arrawarra Headland      Surfing             male   M  NaN   \n",
       "4                        La Ticla  Free diving   Gustavo Ramos    M  NaN   \n",
       "\n",
       "                                              injury fatal_y_n           time  \\\n",
       "0  No injury to occupant, outrigger canoe and pad...         N          18h00   \n",
       "1                         Minor injury to left thigh         N  14h00  -15h00   \n",
       "2       Injury to left lower leg from surfboard skeg         N          07h45   \n",
       "3                          Minor injury to lower leg         N            NaN   \n",
       "4  Lacerations to leg & hand shark PROVOKED INCIDENT         N            NaN   \n",
       "\n",
       "            specie          investigator_or_source                       pdf  \\\n",
       "0      White shark                R. Collier, GSAF      2018.06.25-Wolfe.pdf   \n",
       "1              NaN  K.McMurray, TrackingSharks.com    2018.06.18-McNeely.pdf   \n",
       "2              NaN  K.McMurray, TrackingSharks.com     2018.06.09-Denges.pdf   \n",
       "3        2 m shark                  B. Myatt, GSAF  2018.06.08-Arrawarra.pdf   \n",
       "4  Tiger shark, 3m                       A .Kipper      2018.06.04-Ramos.pdf   \n",
       "\n",
       "                                        href_formula  \\\n",
       "0  http://sharkattackfile.net/spreadsheets/pdf_di...   \n",
       "1  http://sharkattackfile.net/spreadsheets/pdf_di...   \n",
       "2  http://sharkattackfile.net/spreadsheets/pdf_di...   \n",
       "3  http://sharkattackfile.net/spreadsheets/pdf_di...   \n",
       "4  http://sharkattackfile.net/spreadsheets/pdf_di...   \n",
       "\n",
       "                                                href case_number_1  \\\n",
       "0  http://sharkattackfile.net/spreadsheets/pdf_di...    2018.06.25   \n",
       "1  http://sharkattackfile.net/spreadsheets/pdf_di...    2018.06.18   \n",
       "2  http://sharkattackfile.net/spreadsheets/pdf_di...    2018.06.09   \n",
       "3  http://sharkattackfile.net/spreadsheets/pdf_di...    2018.06.08   \n",
       "4  http://sharkattackfile.net/spreadsheets/pdf_di...    2018.06.04   \n",
       "\n",
       "  case_number_2  original_order unnamed_22 unnamed_23  \n",
       "0    2018.06.25          6303.0        NaN        NaN  \n",
       "1    2018.06.18          6302.0        NaN        NaN  \n",
       "2    2018.06.09          6301.0        NaN        NaN  \n",
       "3    2018.06.08          6300.0        NaN        NaN  \n",
       "4    2018.06.04          6299.0        NaN        NaN  "
      ]
     },
     "execution_count": 375,
     "metadata": {},
     "output_type": "execute_result"
    }
   ],
   "source": [
    "sharks=mlg.colnnam_clean(sharks)\n",
    "\n",
    "sharks.rename(columns={\"se\": \"sex\"}, inplace=True)\n",
    "sharks.head()"
   ]
  },
  {
   "cell_type": "markdown",
   "id": "cf334521",
   "metadata": {},
   "source": [
    "### 4.1 NA'S per row - drop rows with 100% of NA's"
   ]
  },
  {
   "cell_type": "code",
   "execution_count": 379,
   "id": "e8cae83d",
   "metadata": {},
   "outputs": [
    {
     "data": {
      "text/html": [
       "<div>\n",
       "<style scoped>\n",
       "    .dataframe tbody tr th:only-of-type {\n",
       "        vertical-align: middle;\n",
       "    }\n",
       "\n",
       "    .dataframe tbody tr th {\n",
       "        vertical-align: top;\n",
       "    }\n",
       "\n",
       "    .dataframe thead th {\n",
       "        text-align: right;\n",
       "    }\n",
       "</style>\n",
       "<table border=\"1\" class=\"dataframe\">\n",
       "  <thead>\n",
       "    <tr style=\"text-align: right;\">\n",
       "      <th></th>\n",
       "      <th>abs_NA</th>\n",
       "      <th>perc_NA</th>\n",
       "    </tr>\n",
       "  </thead>\n",
       "  <tbody>\n",
       "    <tr>\n",
       "      <th>12861</th>\n",
       "      <td>24</td>\n",
       "      <td>100.000000</td>\n",
       "    </tr>\n",
       "    <tr>\n",
       "      <th>11352</th>\n",
       "      <td>24</td>\n",
       "      <td>100.000000</td>\n",
       "    </tr>\n",
       "    <tr>\n",
       "      <th>11338</th>\n",
       "      <td>24</td>\n",
       "      <td>100.000000</td>\n",
       "    </tr>\n",
       "    <tr>\n",
       "      <th>11339</th>\n",
       "      <td>24</td>\n",
       "      <td>100.000000</td>\n",
       "    </tr>\n",
       "    <tr>\n",
       "      <th>11340</th>\n",
       "      <td>24</td>\n",
       "      <td>100.000000</td>\n",
       "    </tr>\n",
       "    <tr>\n",
       "      <th>...</th>\n",
       "      <td>...</td>\n",
       "      <td>...</td>\n",
       "    </tr>\n",
       "    <tr>\n",
       "      <th>3046</th>\n",
       "      <td>2</td>\n",
       "      <td>8.333333</td>\n",
       "    </tr>\n",
       "    <tr>\n",
       "      <th>1386</th>\n",
       "      <td>2</td>\n",
       "      <td>8.333333</td>\n",
       "    </tr>\n",
       "    <tr>\n",
       "      <th>1387</th>\n",
       "      <td>2</td>\n",
       "      <td>8.333333</td>\n",
       "    </tr>\n",
       "    <tr>\n",
       "      <th>1388</th>\n",
       "      <td>2</td>\n",
       "      <td>8.333333</td>\n",
       "    </tr>\n",
       "    <tr>\n",
       "      <th>0</th>\n",
       "      <td>2</td>\n",
       "      <td>8.333333</td>\n",
       "    </tr>\n",
       "  </tbody>\n",
       "</table>\n",
       "<p>25723 rows × 2 columns</p>\n",
       "</div>"
      ],
      "text/plain": [
       "       abs_NA     perc_NA\n",
       "12861      24  100.000000\n",
       "11352      24  100.000000\n",
       "11338      24  100.000000\n",
       "11339      24  100.000000\n",
       "11340      24  100.000000\n",
       "...       ...         ...\n",
       "3046        2    8.333333\n",
       "1386        2    8.333333\n",
       "1387        2    8.333333\n",
       "1388        2    8.333333\n",
       "0           2    8.333333\n",
       "\n",
       "[25723 rows x 2 columns]"
      ]
     },
     "metadata": {},
     "output_type": "display_data"
    },
    {
     "name": "stdout",
     "output_type": "stream",
     "text": [
      "\n",
      "\n",
      "17020 rows with 100% NA values!!\n",
      "\n",
      "    25723 minus 17020  equals  8703 -- True\n"
     ]
    },
    {
     "data": {
      "text/html": [
       "<div>\n",
       "<style scoped>\n",
       "    .dataframe tbody tr th:only-of-type {\n",
       "        vertical-align: middle;\n",
       "    }\n",
       "\n",
       "    .dataframe tbody tr th {\n",
       "        vertical-align: top;\n",
       "    }\n",
       "\n",
       "    .dataframe thead th {\n",
       "        text-align: right;\n",
       "    }\n",
       "</style>\n",
       "<table border=\"1\" class=\"dataframe\">\n",
       "  <thead>\n",
       "    <tr style=\"text-align: right;\">\n",
       "      <th></th>\n",
       "      <th>case_number</th>\n",
       "      <th>date</th>\n",
       "      <th>year</th>\n",
       "      <th>type</th>\n",
       "      <th>country</th>\n",
       "      <th>area</th>\n",
       "      <th>location</th>\n",
       "      <th>activity</th>\n",
       "      <th>name</th>\n",
       "      <th>sex</th>\n",
       "      <th>age</th>\n",
       "      <th>injury</th>\n",
       "      <th>fatal_y_n</th>\n",
       "      <th>time</th>\n",
       "      <th>specie</th>\n",
       "      <th>investigator_or_source</th>\n",
       "      <th>pdf</th>\n",
       "      <th>href_formula</th>\n",
       "      <th>href</th>\n",
       "      <th>case_number_1</th>\n",
       "      <th>case_number_2</th>\n",
       "      <th>original_order</th>\n",
       "      <th>unnamed_22</th>\n",
       "      <th>unnamed_23</th>\n",
       "    </tr>\n",
       "  </thead>\n",
       "  <tbody>\n",
       "    <tr>\n",
       "      <th>0</th>\n",
       "      <td>2018.06.25</td>\n",
       "      <td>25-Jun-2018</td>\n",
       "      <td>2018.0</td>\n",
       "      <td>Boating</td>\n",
       "      <td>USA</td>\n",
       "      <td>California</td>\n",
       "      <td>Oceanside, San Diego County</td>\n",
       "      <td>Paddling</td>\n",
       "      <td>Julie Wolfe</td>\n",
       "      <td>F</td>\n",
       "      <td>57</td>\n",
       "      <td>No injury to occupant, outrigger canoe and pad...</td>\n",
       "      <td>N</td>\n",
       "      <td>18h00</td>\n",
       "      <td>White shark</td>\n",
       "      <td>R. Collier, GSAF</td>\n",
       "      <td>2018.06.25-Wolfe.pdf</td>\n",
       "      <td>http://sharkattackfile.net/spreadsheets/pdf_di...</td>\n",
       "      <td>http://sharkattackfile.net/spreadsheets/pdf_di...</td>\n",
       "      <td>2018.06.25</td>\n",
       "      <td>2018.06.25</td>\n",
       "      <td>6303.0</td>\n",
       "      <td>NaN</td>\n",
       "      <td>NaN</td>\n",
       "    </tr>\n",
       "    <tr>\n",
       "      <th>1</th>\n",
       "      <td>2018.06.18</td>\n",
       "      <td>18-Jun-2018</td>\n",
       "      <td>2018.0</td>\n",
       "      <td>Unprovoked</td>\n",
       "      <td>USA</td>\n",
       "      <td>Georgia</td>\n",
       "      <td>St. Simon Island, Glynn County</td>\n",
       "      <td>Standing</td>\n",
       "      <td>Adyson McNeely</td>\n",
       "      <td>F</td>\n",
       "      <td>11</td>\n",
       "      <td>Minor injury to left thigh</td>\n",
       "      <td>N</td>\n",
       "      <td>14h00  -15h00</td>\n",
       "      <td>NaN</td>\n",
       "      <td>K.McMurray, TrackingSharks.com</td>\n",
       "      <td>2018.06.18-McNeely.pdf</td>\n",
       "      <td>http://sharkattackfile.net/spreadsheets/pdf_di...</td>\n",
       "      <td>http://sharkattackfile.net/spreadsheets/pdf_di...</td>\n",
       "      <td>2018.06.18</td>\n",
       "      <td>2018.06.18</td>\n",
       "      <td>6302.0</td>\n",
       "      <td>NaN</td>\n",
       "      <td>NaN</td>\n",
       "    </tr>\n",
       "    <tr>\n",
       "      <th>2</th>\n",
       "      <td>2018.06.09</td>\n",
       "      <td>09-Jun-2018</td>\n",
       "      <td>2018.0</td>\n",
       "      <td>Invalid</td>\n",
       "      <td>USA</td>\n",
       "      <td>Hawaii</td>\n",
       "      <td>Habush, Oahu</td>\n",
       "      <td>Surfing</td>\n",
       "      <td>John Denges</td>\n",
       "      <td>M</td>\n",
       "      <td>48</td>\n",
       "      <td>Injury to left lower leg from surfboard skeg</td>\n",
       "      <td>N</td>\n",
       "      <td>07h45</td>\n",
       "      <td>NaN</td>\n",
       "      <td>K.McMurray, TrackingSharks.com</td>\n",
       "      <td>2018.06.09-Denges.pdf</td>\n",
       "      <td>http://sharkattackfile.net/spreadsheets/pdf_di...</td>\n",
       "      <td>http://sharkattackfile.net/spreadsheets/pdf_di...</td>\n",
       "      <td>2018.06.09</td>\n",
       "      <td>2018.06.09</td>\n",
       "      <td>6301.0</td>\n",
       "      <td>NaN</td>\n",
       "      <td>NaN</td>\n",
       "    </tr>\n",
       "    <tr>\n",
       "      <th>3</th>\n",
       "      <td>2018.06.08</td>\n",
       "      <td>08-Jun-2018</td>\n",
       "      <td>2018.0</td>\n",
       "      <td>Unprovoked</td>\n",
       "      <td>AUSTRALIA</td>\n",
       "      <td>New South Wales</td>\n",
       "      <td>Arrawarra Headland</td>\n",
       "      <td>Surfing</td>\n",
       "      <td>male</td>\n",
       "      <td>M</td>\n",
       "      <td>NaN</td>\n",
       "      <td>Minor injury to lower leg</td>\n",
       "      <td>N</td>\n",
       "      <td>NaN</td>\n",
       "      <td>2 m shark</td>\n",
       "      <td>B. Myatt, GSAF</td>\n",
       "      <td>2018.06.08-Arrawarra.pdf</td>\n",
       "      <td>http://sharkattackfile.net/spreadsheets/pdf_di...</td>\n",
       "      <td>http://sharkattackfile.net/spreadsheets/pdf_di...</td>\n",
       "      <td>2018.06.08</td>\n",
       "      <td>2018.06.08</td>\n",
       "      <td>6300.0</td>\n",
       "      <td>NaN</td>\n",
       "      <td>NaN</td>\n",
       "    </tr>\n",
       "    <tr>\n",
       "      <th>4</th>\n",
       "      <td>2018.06.04</td>\n",
       "      <td>04-Jun-2018</td>\n",
       "      <td>2018.0</td>\n",
       "      <td>Provoked</td>\n",
       "      <td>MEXICO</td>\n",
       "      <td>Colima</td>\n",
       "      <td>La Ticla</td>\n",
       "      <td>Free diving</td>\n",
       "      <td>Gustavo Ramos</td>\n",
       "      <td>M</td>\n",
       "      <td>NaN</td>\n",
       "      <td>Lacerations to leg &amp; hand shark PROVOKED INCIDENT</td>\n",
       "      <td>N</td>\n",
       "      <td>NaN</td>\n",
       "      <td>Tiger shark, 3m</td>\n",
       "      <td>A .Kipper</td>\n",
       "      <td>2018.06.04-Ramos.pdf</td>\n",
       "      <td>http://sharkattackfile.net/spreadsheets/pdf_di...</td>\n",
       "      <td>http://sharkattackfile.net/spreadsheets/pdf_di...</td>\n",
       "      <td>2018.06.04</td>\n",
       "      <td>2018.06.04</td>\n",
       "      <td>6299.0</td>\n",
       "      <td>NaN</td>\n",
       "      <td>NaN</td>\n",
       "    </tr>\n",
       "  </tbody>\n",
       "</table>\n",
       "</div>"
      ],
      "text/plain": [
       "  case_number         date    year        type    country             area  \\\n",
       "0  2018.06.25  25-Jun-2018  2018.0     Boating        USA       California   \n",
       "1  2018.06.18  18-Jun-2018  2018.0  Unprovoked        USA          Georgia   \n",
       "2  2018.06.09  09-Jun-2018  2018.0     Invalid        USA           Hawaii   \n",
       "3  2018.06.08  08-Jun-2018  2018.0  Unprovoked  AUSTRALIA  New South Wales   \n",
       "4  2018.06.04  04-Jun-2018  2018.0    Provoked     MEXICO           Colima   \n",
       "\n",
       "                         location     activity             name sex  age  \\\n",
       "0     Oceanside, San Diego County     Paddling      Julie Wolfe   F   57   \n",
       "1  St. Simon Island, Glynn County     Standing  Adyson McNeely    F   11   \n",
       "2                    Habush, Oahu      Surfing      John Denges   M   48   \n",
       "3              Arrawarra Headland      Surfing             male   M  NaN   \n",
       "4                        La Ticla  Free diving   Gustavo Ramos    M  NaN   \n",
       "\n",
       "                                              injury fatal_y_n           time  \\\n",
       "0  No injury to occupant, outrigger canoe and pad...         N          18h00   \n",
       "1                         Minor injury to left thigh         N  14h00  -15h00   \n",
       "2       Injury to left lower leg from surfboard skeg         N          07h45   \n",
       "3                          Minor injury to lower leg         N            NaN   \n",
       "4  Lacerations to leg & hand shark PROVOKED INCIDENT         N            NaN   \n",
       "\n",
       "            specie          investigator_or_source                       pdf  \\\n",
       "0      White shark                R. Collier, GSAF      2018.06.25-Wolfe.pdf   \n",
       "1              NaN  K.McMurray, TrackingSharks.com    2018.06.18-McNeely.pdf   \n",
       "2              NaN  K.McMurray, TrackingSharks.com     2018.06.09-Denges.pdf   \n",
       "3        2 m shark                  B. Myatt, GSAF  2018.06.08-Arrawarra.pdf   \n",
       "4  Tiger shark, 3m                       A .Kipper      2018.06.04-Ramos.pdf   \n",
       "\n",
       "                                        href_formula  \\\n",
       "0  http://sharkattackfile.net/spreadsheets/pdf_di...   \n",
       "1  http://sharkattackfile.net/spreadsheets/pdf_di...   \n",
       "2  http://sharkattackfile.net/spreadsheets/pdf_di...   \n",
       "3  http://sharkattackfile.net/spreadsheets/pdf_di...   \n",
       "4  http://sharkattackfile.net/spreadsheets/pdf_di...   \n",
       "\n",
       "                                                href case_number_1  \\\n",
       "0  http://sharkattackfile.net/spreadsheets/pdf_di...    2018.06.25   \n",
       "1  http://sharkattackfile.net/spreadsheets/pdf_di...    2018.06.18   \n",
       "2  http://sharkattackfile.net/spreadsheets/pdf_di...    2018.06.09   \n",
       "3  http://sharkattackfile.net/spreadsheets/pdf_di...    2018.06.08   \n",
       "4  http://sharkattackfile.net/spreadsheets/pdf_di...    2018.06.04   \n",
       "\n",
       "  case_number_2  original_order unnamed_22 unnamed_23  \n",
       "0    2018.06.25          6303.0        NaN        NaN  \n",
       "1    2018.06.18          6302.0        NaN        NaN  \n",
       "2    2018.06.09          6301.0        NaN        NaN  \n",
       "3    2018.06.08          6300.0        NaN        NaN  \n",
       "4    2018.06.04          6299.0        NaN        NaN  "
      ]
     },
     "execution_count": 379,
     "metadata": {},
     "output_type": "execute_result"
    }
   ],
   "source": [
    "sharks1 = sharks.copy()\n",
    "\n",
    "NA_sum_row = mlg.na_absperc(sharks.T)\n",
    "display(NA_sum_row)\n",
    "\n",
    "NA100_index = NA_sum_row[\"perc_NA\"]==100\n",
    "NA100_index = NA100_index[NA100_index==True]\n",
    "print(\"\\n\")\n",
    "print(len(NA100_index), \"rows with 100% NA values!!\")\n",
    "\n",
    "\n",
    "sharks1.drop(index = NA100_index.index, inplace=True)\n",
    "\n",
    "sharks1.reset_index(drop=True, inplace=True)\n",
    "\n",
    "print(f'''\n",
    "    {len(sharks)} minus {len(NA100_index)}  equals  {len(sharks1)} -- {len(sharks) - len(NA100_index) == len(sharks1)}''')\n"
   ]
  },
  {
   "cell_type": "code",
   "execution_count": 380,
   "id": "b65dde8b",
   "metadata": {},
   "outputs": [
    {
     "data": {
      "image/png": "[encoded data removed]",
      "text/plain": [
       "<Figure size 1000x600 with 1 Axes>"
      ]
     },
     "metadata": {},
     "output_type": "display_data"
    },
    {
     "name": "stdout",
     "output_type": "stream",
     "text": [
      "\n",
      "\n",
      "When excluding 'case number' column, we find that many rows are actually 100% NAs.\n",
      "I will drop these rows too!!\n",
      "    \n"
     ]
    }
   ],
   "source": [
    "mlg.na_heatmap(sharks1)\n",
    "print('''\n",
    "\n",
    "When excluding 'case number' column, we find that many rows are actually 100% NAs.\n",
    "I will drop these rows too!!\n",
    "    ''' )\n"
   ]
  },
  {
   "cell_type": "code",
   "execution_count": 382,
   "id": "955daf85",
   "metadata": {},
   "outputs": [
    {
     "data": {
      "text/html": [
       "<div>\n",
       "<style scoped>\n",
       "    .dataframe tbody tr th:only-of-type {\n",
       "        vertical-align: middle;\n",
       "    }\n",
       "\n",
       "    .dataframe tbody tr th {\n",
       "        vertical-align: top;\n",
       "    }\n",
       "\n",
       "    .dataframe thead th {\n",
       "        text-align: right;\n",
       "    }\n",
       "</style>\n",
       "<table border=\"1\" class=\"dataframe\">\n",
       "  <thead>\n",
       "    <tr style=\"text-align: right;\">\n",
       "      <th></th>\n",
       "      <th>abs_NA</th>\n",
       "      <th>perc_NA</th>\n",
       "    </tr>\n",
       "  </thead>\n",
       "  <tbody>\n",
       "    <tr>\n",
       "      <th>8702</th>\n",
       "      <td>23</td>\n",
       "      <td>95.833333</td>\n",
       "    </tr>\n",
       "    <tr>\n",
       "      <th>7123</th>\n",
       "      <td>23</td>\n",
       "      <td>95.833333</td>\n",
       "    </tr>\n",
       "    <tr>\n",
       "      <th>7130</th>\n",
       "      <td>23</td>\n",
       "      <td>95.833333</td>\n",
       "    </tr>\n",
       "    <tr>\n",
       "      <th>7129</th>\n",
       "      <td>23</td>\n",
       "      <td>95.833333</td>\n",
       "    </tr>\n",
       "    <tr>\n",
       "      <th>7128</th>\n",
       "      <td>23</td>\n",
       "      <td>95.833333</td>\n",
       "    </tr>\n",
       "    <tr>\n",
       "      <th>...</th>\n",
       "      <td>...</td>\n",
       "      <td>...</td>\n",
       "    </tr>\n",
       "    <tr>\n",
       "      <th>3054</th>\n",
       "      <td>2</td>\n",
       "      <td>8.333333</td>\n",
       "    </tr>\n",
       "    <tr>\n",
       "      <th>3050</th>\n",
       "      <td>2</td>\n",
       "      <td>8.333333</td>\n",
       "    </tr>\n",
       "    <tr>\n",
       "      <th>3048</th>\n",
       "      <td>2</td>\n",
       "      <td>8.333333</td>\n",
       "    </tr>\n",
       "    <tr>\n",
       "      <th>1446</th>\n",
       "      <td>2</td>\n",
       "      <td>8.333333</td>\n",
       "    </tr>\n",
       "    <tr>\n",
       "      <th>0</th>\n",
       "      <td>2</td>\n",
       "      <td>8.333333</td>\n",
       "    </tr>\n",
       "  </tbody>\n",
       "</table>\n",
       "<p>8703 rows × 2 columns</p>\n",
       "</div>"
      ],
      "text/plain": [
       "      abs_NA    perc_NA\n",
       "8702      23  95.833333\n",
       "7123      23  95.833333\n",
       "7130      23  95.833333\n",
       "7129      23  95.833333\n",
       "7128      23  95.833333\n",
       "...      ...        ...\n",
       "3054       2   8.333333\n",
       "3050       2   8.333333\n",
       "3048       2   8.333333\n",
       "1446       2   8.333333\n",
       "0          2   8.333333\n",
       "\n",
       "[8703 rows x 2 columns]"
      ]
     },
     "metadata": {},
     "output_type": "display_data"
    },
    {
     "name": "stdout",
     "output_type": "stream",
     "text": [
      "\n",
      "\n",
      "2394 rows with 100% NA values (excluding 'Case number' column!!\n",
      "\n",
      "    8703 minus 2394  equals  6309 -- True\n"
     ]
    }
   ],
   "source": [
    "sharks2 = sharks1.copy()\n",
    "\n",
    "NA_sum_row = mlg.na_absperc(sharks1.T) \n",
    "display(NA_sum_row)\n",
    "\n",
    "NA23_index = NA_sum_row[\"abs_NA\"] == 23 # select rows with 23 NA's out of the total 24 columns !!\n",
    "NA23_index = NA23_index[NA23_index == True]\n",
    "print(\"\\n\")\n",
    "print(len(NA23_index), \"rows with 100% NA values (excluding 'Case number' column!!\")\n",
    "\n",
    "\n",
    "sharks2.drop(index = NA23_index.index, inplace=True)\n",
    "sharks2.reset_index(drop=True, inplace=True)\n",
    "\n",
    "print(f'''\n",
    "    {len(sharks1)} minus {len(NA23_index)}  equals  {len(sharks2)} -- {len(sharks1) - len(NA23_index) == len(sharks2)}''')\n"
   ]
  },
  {
   "cell_type": "code",
   "execution_count": 383,
   "id": "48631d43",
   "metadata": {},
   "outputs": [
    {
     "data": {
      "image/png": "[encoded data removed]",
      "text/plain": [
       "<Figure size 1000x600 with 1 Axes>"
      ]
     },
     "metadata": {},
     "output_type": "display_data"
    },
    {
     "name": "stdout",
     "output_type": "stream",
     "text": [
      "percentile 90 =  25.0\n",
      "\n",
      "After checking the NA percentage distribution, \n",
      "I decided to drop rows with more than 40% of NAS\n"
     ]
    },
    {
     "data": {
      "image/png": "[encoded data removed]",
      "text/plain": [
       "<Figure size 640x480 with 1 Axes>"
      ]
     },
     "metadata": {},
     "output_type": "display_data"
    }
   ],
   "source": [
    "mlg.na_heatmap(sharks2)\n",
    "\n",
    "mlg.na_absperc(sharks2.T)[\"perc_NA\"].hist(bins=50);\n",
    "\n",
    "mlg.na_absperc(sharks2.T)[\"perc_NA\"].describe()\n",
    "\n",
    "print(\"percentile 90 = \", mlg.na_absperc(sharks2.T)[\"perc_NA\"].quantile(0.9))\n",
    "\n",
    "print('''\n",
    "After checking the NA percentage distribution, \n",
    "I decided to drop rows with more than 40% of NAS''')"
   ]
  },
  {
   "cell_type": "code",
   "execution_count": 385,
   "id": "6e1d1ea5",
   "metadata": {
    "scrolled": true
   },
   "outputs": [
    {
     "name": "stdout",
     "output_type": "stream",
     "text": [
      "\n",
      "\n",
      "14 rows with more than 40% NA values!!\n",
      "\n",
      "    6309 minus 14  equals  6295 -- True\n"
     ]
    }
   ],
   "source": [
    "sharks3 = sharks2.copy()\n",
    "\n",
    "NA_sum_row = mlg.na_absperc(sharks2.T)\n",
    "\n",
    "NA40_index = NA_sum_row[\"perc_NA\"]>40\n",
    "NA40_index = NA40_index[NA40_index==True]\n",
    "print(\"\\n\")\n",
    "print(len(NA40_index), \"rows with more than 40% NA values!!\")\n",
    "\n",
    "\n",
    "sharks3.drop(index = NA40_index.index, inplace=True)\n",
    "sharks3.reset_index(drop=True, inplace=True)\n",
    "\n",
    "print(f'''\n",
    "    {len(sharks2)} minus {len(NA40_index)}  equals  {len(sharks3)} -- {len(sharks2) - len(NA40_index) == len(sharks3)}''')\n"
   ]
  },
  {
   "cell_type": "markdown",
   "id": "34e05cf5",
   "metadata": {},
   "source": [
    "### 4.2 Check and drop duplicated rows"
   ]
  },
  {
   "cell_type": "code",
   "execution_count": 387,
   "id": "a0eafdae",
   "metadata": {
    "scrolled": true
   },
   "outputs": [
    {
     "data": {
      "text/plain": [
       "False"
      ]
     },
     "metadata": {},
     "output_type": "display_data"
    },
    {
     "data": {
      "text/plain": [
       "0"
      ]
     },
     "metadata": {},
     "output_type": "display_data"
    },
    {
     "name": "stdout",
     "output_type": "stream",
     "text": [
      "The dataframe has None duplicated rows\n"
     ]
    }
   ],
   "source": [
    "display(any(sharks3.duplicated()))\n",
    "\n",
    "print(f'The dataframe has {display(sharks3.duplicated().sum())} duplicated rows')"
   ]
  },
  {
   "cell_type": "markdown",
   "id": "d14d9636",
   "metadata": {},
   "source": [
    "### Investigate the columns by their unique_count/freq ratio\n",
    "\n",
    "Top rows: indicate there are MANY LEVELS with very LOW FREQ:\n",
    "\n",
    " * 'case_number' should be an identifier and not present duplicated values!!!\n",
    "\n",
    " * That behavior is expected for 'case_number' and 'date' data types\n",
    "     \n",
    " * According to wikipedia, there only exists 195 countries in the world\n",
    "    but this column contains 212 unique values!!!!\n",
    "    Check in the next cell bellow.\n",
    "         \n",
    " * Same suspicion wiht \"species\" or \"activity\"\n",
    " \n",
    "         \n",
    "Bottom rows: indicate there is ONE LEVEL with EXCESIVE FREQ:\n",
    "\n",
    " * \"unnamed_22\" and \"unnamed_23\" should be deleted in a real job task\n",
    "    \n",
    " * \"case_number_1\" and \"case_number_2\" should also be deleted cause they seem copies of \"case_number\"\n",
    "   \n",
    " * For the moment, I will also ignore \"href\" and \"href_formula\" cause they seems uninformative links"
   ]
  },
  {
   "cell_type": "code",
   "execution_count": 407,
   "id": "0b176735",
   "metadata": {},
   "outputs": [
    {
     "data": {
      "text/html": [
       "<div>\n",
       "<style scoped>\n",
       "    .dataframe tbody tr th:only-of-type {\n",
       "        vertical-align: middle;\n",
       "    }\n",
       "\n",
       "    .dataframe tbody tr th {\n",
       "        vertical-align: top;\n",
       "    }\n",
       "\n",
       "    .dataframe thead th {\n",
       "        text-align: right;\n",
       "    }\n",
       "</style>\n",
       "<table border=\"1\" class=\"dataframe\">\n",
       "  <thead>\n",
       "    <tr style=\"text-align: right;\">\n",
       "      <th></th>\n",
       "      <th>count</th>\n",
       "      <th>unique</th>\n",
       "      <th>top</th>\n",
       "      <th>freq</th>\n",
       "      <th>unicount_ratio</th>\n",
       "      <th>resto_abs</th>\n",
       "      <th>resto_per</th>\n",
       "    </tr>\n",
       "  </thead>\n",
       "  <tbody>\n",
       "    <tr>\n",
       "      <th>case_number</th>\n",
       "      <td>6294</td>\n",
       "      <td>6278</td>\n",
       "      <td>1920.00.00.b</td>\n",
       "      <td>2</td>\n",
       "      <td>0.997458</td>\n",
       "      <td>6292</td>\n",
       "      <td>99.968224</td>\n",
       "    </tr>\n",
       "    <tr>\n",
       "      <th>date</th>\n",
       "      <td>6295</td>\n",
       "      <td>5427</td>\n",
       "      <td>1957</td>\n",
       "      <td>11</td>\n",
       "      <td>0.862113</td>\n",
       "      <td>6284</td>\n",
       "      <td>99.825258</td>\n",
       "    </tr>\n",
       "    <tr>\n",
       "      <th>type</th>\n",
       "      <td>6291</td>\n",
       "      <td>8</td>\n",
       "      <td>Unprovoked</td>\n",
       "      <td>4593</td>\n",
       "      <td>0.001272</td>\n",
       "      <td>1698</td>\n",
       "      <td>26.990939</td>\n",
       "    </tr>\n",
       "    <tr>\n",
       "      <th>country</th>\n",
       "      <td>6246</td>\n",
       "      <td>212</td>\n",
       "      <td>USA</td>\n",
       "      <td>2229</td>\n",
       "      <td>0.033942</td>\n",
       "      <td>4017</td>\n",
       "      <td>64.31316</td>\n",
       "    </tr>\n",
       "    <tr>\n",
       "      <th>area</th>\n",
       "      <td>5847</td>\n",
       "      <td>825</td>\n",
       "      <td>Florida</td>\n",
       "      <td>1037</td>\n",
       "      <td>0.141098</td>\n",
       "      <td>4810</td>\n",
       "      <td>82.264409</td>\n",
       "    </tr>\n",
       "    <tr>\n",
       "      <th>location</th>\n",
       "      <td>5761</td>\n",
       "      <td>4107</td>\n",
       "      <td>New Smyrna Beach, Volusia County</td>\n",
       "      <td>163</td>\n",
       "      <td>0.712897</td>\n",
       "      <td>5598</td>\n",
       "      <td>97.17063</td>\n",
       "    </tr>\n",
       "    <tr>\n",
       "      <th>activity</th>\n",
       "      <td>5757</td>\n",
       "      <td>1531</td>\n",
       "      <td>Surfing</td>\n",
       "      <td>971</td>\n",
       "      <td>0.265937</td>\n",
       "      <td>4786</td>\n",
       "      <td>83.133577</td>\n",
       "    </tr>\n",
       "    <tr>\n",
       "      <th>name</th>\n",
       "      <td>6090</td>\n",
       "      <td>5229</td>\n",
       "      <td>male</td>\n",
       "      <td>549</td>\n",
       "      <td>0.858621</td>\n",
       "      <td>5541</td>\n",
       "      <td>90.985222</td>\n",
       "    </tr>\n",
       "    <tr>\n",
       "      <th>sex</th>\n",
       "      <td>5736</td>\n",
       "      <td>6</td>\n",
       "      <td>M</td>\n",
       "      <td>5093</td>\n",
       "      <td>0.001046</td>\n",
       "      <td>643</td>\n",
       "      <td>11.209902</td>\n",
       "    </tr>\n",
       "    <tr>\n",
       "      <th>age</th>\n",
       "      <td>3471</td>\n",
       "      <td>157</td>\n",
       "      <td>17</td>\n",
       "      <td>154</td>\n",
       "      <td>0.045232</td>\n",
       "      <td>3317</td>\n",
       "      <td>95.563238</td>\n",
       "    </tr>\n",
       "    <tr>\n",
       "      <th>injury</th>\n",
       "      <td>6269</td>\n",
       "      <td>3736</td>\n",
       "      <td>FATAL</td>\n",
       "      <td>801</td>\n",
       "      <td>0.595948</td>\n",
       "      <td>5468</td>\n",
       "      <td>87.222843</td>\n",
       "    </tr>\n",
       "    <tr>\n",
       "      <th>fatal_y_n</th>\n",
       "      <td>5759</td>\n",
       "      <td>8</td>\n",
       "      <td>N</td>\n",
       "      <td>4292</td>\n",
       "      <td>0.001389</td>\n",
       "      <td>1467</td>\n",
       "      <td>25.473172</td>\n",
       "    </tr>\n",
       "    <tr>\n",
       "      <th>time</th>\n",
       "      <td>2948</td>\n",
       "      <td>366</td>\n",
       "      <td>Afternoon</td>\n",
       "      <td>187</td>\n",
       "      <td>0.124152</td>\n",
       "      <td>2761</td>\n",
       "      <td>93.656716</td>\n",
       "    </tr>\n",
       "    <tr>\n",
       "      <th>specie</th>\n",
       "      <td>3462</td>\n",
       "      <td>1549</td>\n",
       "      <td>White shark</td>\n",
       "      <td>163</td>\n",
       "      <td>0.447429</td>\n",
       "      <td>3299</td>\n",
       "      <td>95.291739</td>\n",
       "    </tr>\n",
       "    <tr>\n",
       "      <th>investigator_or_source</th>\n",
       "      <td>6279</td>\n",
       "      <td>4965</td>\n",
       "      <td>C. Moore, GSAF</td>\n",
       "      <td>103</td>\n",
       "      <td>0.790731</td>\n",
       "      <td>6176</td>\n",
       "      <td>98.359611</td>\n",
       "    </tr>\n",
       "    <tr>\n",
       "      <th>pdf</th>\n",
       "      <td>6295</td>\n",
       "      <td>6284</td>\n",
       "      <td>1916.07.12.a-b-Stillwell-Fisher.pdf</td>\n",
       "      <td>2</td>\n",
       "      <td>0.998253</td>\n",
       "      <td>6293</td>\n",
       "      <td>99.968229</td>\n",
       "    </tr>\n",
       "    <tr>\n",
       "      <th>href_formula</th>\n",
       "      <td>6294</td>\n",
       "      <td>6283</td>\n",
       "      <td>http://sharkattackfile.net/spreadsheets/pdf_di...</td>\n",
       "      <td>2</td>\n",
       "      <td>0.998252</td>\n",
       "      <td>6292</td>\n",
       "      <td>99.968224</td>\n",
       "    </tr>\n",
       "    <tr>\n",
       "      <th>href</th>\n",
       "      <td>6295</td>\n",
       "      <td>6278</td>\n",
       "      <td>http://sharkattackfile.net/spreadsheets/pdf_di...</td>\n",
       "      <td>4</td>\n",
       "      <td>0.997299</td>\n",
       "      <td>6291</td>\n",
       "      <td>99.936458</td>\n",
       "    </tr>\n",
       "    <tr>\n",
       "      <th>case_number_1</th>\n",
       "      <td>6295</td>\n",
       "      <td>6278</td>\n",
       "      <td>2009.12.18</td>\n",
       "      <td>2</td>\n",
       "      <td>0.997299</td>\n",
       "      <td>6293</td>\n",
       "      <td>99.968229</td>\n",
       "    </tr>\n",
       "    <tr>\n",
       "      <th>case_number_2</th>\n",
       "      <td>6295</td>\n",
       "      <td>6279</td>\n",
       "      <td>1920.00.00.b</td>\n",
       "      <td>2</td>\n",
       "      <td>0.997458</td>\n",
       "      <td>6293</td>\n",
       "      <td>99.968229</td>\n",
       "    </tr>\n",
       "    <tr>\n",
       "      <th>unnamed_22</th>\n",
       "      <td>1</td>\n",
       "      <td>1</td>\n",
       "      <td>stopped here</td>\n",
       "      <td>1</td>\n",
       "      <td>1.0</td>\n",
       "      <td>0</td>\n",
       "      <td>0.0</td>\n",
       "    </tr>\n",
       "    <tr>\n",
       "      <th>unnamed_23</th>\n",
       "      <td>2</td>\n",
       "      <td>2</td>\n",
       "      <td>Teramo</td>\n",
       "      <td>1</td>\n",
       "      <td>1.0</td>\n",
       "      <td>1</td>\n",
       "      <td>50.0</td>\n",
       "    </tr>\n",
       "  </tbody>\n",
       "</table>\n",
       "</div>"
      ],
      "text/plain": [
       "                       count unique  \\\n",
       "case_number             6294   6278   \n",
       "date                    6295   5427   \n",
       "type                    6291      8   \n",
       "country                 6246    212   \n",
       "area                    5847    825   \n",
       "location                5761   4107   \n",
       "activity                5757   1531   \n",
       "name                    6090   5229   \n",
       "sex                     5736      6   \n",
       "age                     3471    157   \n",
       "injury                  6269   3736   \n",
       "fatal_y_n               5759      8   \n",
       "time                    2948    366   \n",
       "specie                  3462   1549   \n",
       "investigator_or_source  6279   4965   \n",
       "pdf                     6295   6284   \n",
       "href_formula            6294   6283   \n",
       "href                    6295   6278   \n",
       "case_number_1           6295   6278   \n",
       "case_number_2           6295   6279   \n",
       "unnamed_22                 1      1   \n",
       "unnamed_23                 2      2   \n",
       "\n",
       "                                                                      top  \\\n",
       "case_number                                                  1920.00.00.b   \n",
       "date                                                                 1957   \n",
       "type                                                           Unprovoked   \n",
       "country                                                               USA   \n",
       "area                                                              Florida   \n",
       "location                                 New Smyrna Beach, Volusia County   \n",
       "activity                                                          Surfing   \n",
       "name                                                                 male   \n",
       "sex                                                                     M   \n",
       "age                                                                    17   \n",
       "injury                                                              FATAL   \n",
       "fatal_y_n                                                               N   \n",
       "time                                                            Afternoon   \n",
       "specie                                                        White shark   \n",
       "investigator_or_source                                     C. Moore, GSAF   \n",
       "pdf                                   1916.07.12.a-b-Stillwell-Fisher.pdf   \n",
       "href_formula            http://sharkattackfile.net/spreadsheets/pdf_di...   \n",
       "href                    http://sharkattackfile.net/spreadsheets/pdf_di...   \n",
       "case_number_1                                                  2009.12.18   \n",
       "case_number_2                                                1920.00.00.b   \n",
       "unnamed_22                                                   stopped here   \n",
       "unnamed_23                                                         Teramo   \n",
       "\n",
       "                        freq unicount_ratio resto_abs  resto_per  \n",
       "case_number                2       0.997458      6292  99.968224  \n",
       "date                      11       0.862113      6284  99.825258  \n",
       "type                    4593       0.001272      1698  26.990939  \n",
       "country                 2229       0.033942      4017   64.31316  \n",
       "area                    1037       0.141098      4810  82.264409  \n",
       "location                 163       0.712897      5598   97.17063  \n",
       "activity                 971       0.265937      4786  83.133577  \n",
       "name                     549       0.858621      5541  90.985222  \n",
       "sex                     5093       0.001046       643  11.209902  \n",
       "age                      154       0.045232      3317  95.563238  \n",
       "injury                   801       0.595948      5468  87.222843  \n",
       "fatal_y_n               4292       0.001389      1467  25.473172  \n",
       "time                     187       0.124152      2761  93.656716  \n",
       "specie                   163       0.447429      3299  95.291739  \n",
       "investigator_or_source   103       0.790731      6176  98.359611  \n",
       "pdf                        2       0.998253      6293  99.968229  \n",
       "href_formula               2       0.998252      6292  99.968224  \n",
       "href                       4       0.997299      6291  99.936458  \n",
       "case_number_1              2       0.997299      6293  99.968229  \n",
       "case_number_2              2       0.997458      6293  99.968229  \n",
       "unnamed_22                 1            1.0         0        0.0  \n",
       "unnamed_23                 1            1.0         1       50.0  "
      ]
     },
     "metadata": {},
     "output_type": "display_data"
    }
   ],
   "source": [
    "display(mlg.categ_summ(sharks3))"
   ]
  },
  {
   "cell_type": "markdown",
   "id": "81822671",
   "metadata": {},
   "source": [
    "### 4.3 Investigate the relationship between: \"case_number\", \"case_number_1\",  \"case_number_2\" and \"original_order\" "
   ]
  },
  {
   "cell_type": "code",
   "execution_count": 495,
   "id": "ec6431a3",
   "metadata": {},
   "outputs": [
    {
     "data": {
      "text/plain": [
       "original_order    float64\n",
       "dtype: object"
      ]
     },
     "metadata": {},
     "output_type": "display_data"
    },
    {
     "data": {
      "text/plain": [
       "original_order    Int64\n",
       "dtype: object"
      ]
     },
     "metadata": {},
     "output_type": "display_data"
    },
    {
     "name": "stdout",
     "output_type": "stream",
     "text": [
      "\n",
      "6294 unique values in a total 6295 rows -->\n",
      "1 duplicated ID\n",
      "\n",
      "From now on I will define \"original_order\" as the attacks record MAIN ID and ignore\n",
      "\"case_number\", \"case_number_1\",  \"case_number_2\" columns\n",
      "as they include more duplicates (checked bellow) and seem to be a subproduct of date info\n"
     ]
    }
   ],
   "source": [
    "sharks4 = sharks3.copy()\n",
    "display(sharks4[[\"original_order\"]].dtypes)\n",
    "sharks4[[\"original_order\"]]=sharks4[[\"original_order\"]].convert_dtypes()\n",
    "display(sharks4[[\"original_order\"]].dtypes)\n",
    "\n",
    "print(f'''\n",
    "{sharks4[[\"original_order\"]].nunique()[0]} unique values in a total {sharks4.shape[0]} rows -->\n",
    "{sharks4.shape[0] - sharks4[[\"original_order\"]].nunique()[0]} duplicated ID''')\n",
    "\n",
    "print(f'''\n",
    "From now on I will define \"original_order\" as the attacks record MAIN ID and ignore\n",
    "\"case_number\", \"case_number_1\",  \"case_number_2\" columns\n",
    "as they include more duplicates (checked bellow) and seem to be a subproduct of date info''')\n"
   ]
  },
  {
   "cell_type": "code",
   "execution_count": 506,
   "id": "96d7ec39",
   "metadata": {},
   "outputs": [
    {
     "data": {
      "text/html": [
       "<div>\n",
       "<style scoped>\n",
       "    .dataframe tbody tr th:only-of-type {\n",
       "        vertical-align: middle;\n",
       "    }\n",
       "\n",
       "    .dataframe tbody tr th {\n",
       "        vertical-align: top;\n",
       "    }\n",
       "\n",
       "    .dataframe thead th {\n",
       "        text-align: right;\n",
       "    }\n",
       "</style>\n",
       "<table border=\"1\" class=\"dataframe\">\n",
       "  <thead>\n",
       "    <tr style=\"text-align: right;\">\n",
       "      <th></th>\n",
       "      <th>original_order</th>\n",
       "      <th>date</th>\n",
       "      <th>year</th>\n",
       "      <th>type</th>\n",
       "      <th>country</th>\n",
       "      <th>area</th>\n",
       "      <th>location</th>\n",
       "      <th>activity</th>\n",
       "      <th>name</th>\n",
       "      <th>sex</th>\n",
       "      <th>age</th>\n",
       "      <th>injury</th>\n",
       "      <th>fatal_y_n</th>\n",
       "      <th>time</th>\n",
       "      <th>specie</th>\n",
       "      <th>investigator_or_source</th>\n",
       "      <th>pdf</th>\n",
       "      <th>href_formula</th>\n",
       "      <th>href</th>\n",
       "      <th>case_number</th>\n",
       "      <th>case_number_1</th>\n",
       "      <th>case_number_2</th>\n",
       "      <th>unnamed_22</th>\n",
       "      <th>unnamed_23</th>\n",
       "    </tr>\n",
       "  </thead>\n",
       "  <tbody>\n",
       "    <tr>\n",
       "      <th>0</th>\n",
       "      <td>6303</td>\n",
       "      <td>25-Jun-2018</td>\n",
       "      <td>2018.0</td>\n",
       "      <td>Boating</td>\n",
       "      <td>USA</td>\n",
       "      <td>California</td>\n",
       "      <td>Oceanside, San Diego County</td>\n",
       "      <td>Paddling</td>\n",
       "      <td>Julie Wolfe</td>\n",
       "      <td>F</td>\n",
       "      <td>57</td>\n",
       "      <td>No injury to occupant, outrigger canoe and pad...</td>\n",
       "      <td>N</td>\n",
       "      <td>18h00</td>\n",
       "      <td>White shark</td>\n",
       "      <td>R. Collier, GSAF</td>\n",
       "      <td>2018.06.25-Wolfe.pdf</td>\n",
       "      <td>http://sharkattackfile.net/spreadsheets/pdf_di...</td>\n",
       "      <td>http://sharkattackfile.net/spreadsheets/pdf_di...</td>\n",
       "      <td>2018.06.25</td>\n",
       "      <td>2018.06.25</td>\n",
       "      <td>2018.06.25</td>\n",
       "      <td>NaN</td>\n",
       "      <td>NaN</td>\n",
       "    </tr>\n",
       "    <tr>\n",
       "      <th>1</th>\n",
       "      <td>6302</td>\n",
       "      <td>18-Jun-2018</td>\n",
       "      <td>2018.0</td>\n",
       "      <td>Unprovoked</td>\n",
       "      <td>USA</td>\n",
       "      <td>Georgia</td>\n",
       "      <td>St. Simon Island, Glynn County</td>\n",
       "      <td>Standing</td>\n",
       "      <td>Adyson McNeely</td>\n",
       "      <td>F</td>\n",
       "      <td>11</td>\n",
       "      <td>Minor injury to left thigh</td>\n",
       "      <td>N</td>\n",
       "      <td>14h00  -15h00</td>\n",
       "      <td>NaN</td>\n",
       "      <td>K.McMurray, TrackingSharks.com</td>\n",
       "      <td>2018.06.18-McNeely.pdf</td>\n",
       "      <td>http://sharkattackfile.net/spreadsheets/pdf_di...</td>\n",
       "      <td>http://sharkattackfile.net/spreadsheets/pdf_di...</td>\n",
       "      <td>2018.06.18</td>\n",
       "      <td>2018.06.18</td>\n",
       "      <td>2018.06.18</td>\n",
       "      <td>NaN</td>\n",
       "      <td>NaN</td>\n",
       "    </tr>\n",
       "    <tr>\n",
       "      <th>2</th>\n",
       "      <td>6301</td>\n",
       "      <td>09-Jun-2018</td>\n",
       "      <td>2018.0</td>\n",
       "      <td>Invalid</td>\n",
       "      <td>USA</td>\n",
       "      <td>Hawaii</td>\n",
       "      <td>Habush, Oahu</td>\n",
       "      <td>Surfing</td>\n",
       "      <td>John Denges</td>\n",
       "      <td>M</td>\n",
       "      <td>48</td>\n",
       "      <td>Injury to left lower leg from surfboard skeg</td>\n",
       "      <td>N</td>\n",
       "      <td>07h45</td>\n",
       "      <td>NaN</td>\n",
       "      <td>K.McMurray, TrackingSharks.com</td>\n",
       "      <td>2018.06.09-Denges.pdf</td>\n",
       "      <td>http://sharkattackfile.net/spreadsheets/pdf_di...</td>\n",
       "      <td>http://sharkattackfile.net/spreadsheets/pdf_di...</td>\n",
       "      <td>2018.06.09</td>\n",
       "      <td>2018.06.09</td>\n",
       "      <td>2018.06.09</td>\n",
       "      <td>NaN</td>\n",
       "      <td>NaN</td>\n",
       "    </tr>\n",
       "    <tr>\n",
       "      <th>3</th>\n",
       "      <td>6300</td>\n",
       "      <td>08-Jun-2018</td>\n",
       "      <td>2018.0</td>\n",
       "      <td>Unprovoked</td>\n",
       "      <td>AUSTRALIA</td>\n",
       "      <td>New South Wales</td>\n",
       "      <td>Arrawarra Headland</td>\n",
       "      <td>Surfing</td>\n",
       "      <td>male</td>\n",
       "      <td>M</td>\n",
       "      <td>NaN</td>\n",
       "      <td>Minor injury to lower leg</td>\n",
       "      <td>N</td>\n",
       "      <td>NaN</td>\n",
       "      <td>2 m shark</td>\n",
       "      <td>B. Myatt, GSAF</td>\n",
       "      <td>2018.06.08-Arrawarra.pdf</td>\n",
       "      <td>http://sharkattackfile.net/spreadsheets/pdf_di...</td>\n",
       "      <td>http://sharkattackfile.net/spreadsheets/pdf_di...</td>\n",
       "      <td>2018.06.08</td>\n",
       "      <td>2018.06.08</td>\n",
       "      <td>2018.06.08</td>\n",
       "      <td>NaN</td>\n",
       "      <td>NaN</td>\n",
       "    </tr>\n",
       "    <tr>\n",
       "      <th>4</th>\n",
       "      <td>6299</td>\n",
       "      <td>04-Jun-2018</td>\n",
       "      <td>2018.0</td>\n",
       "      <td>Provoked</td>\n",
       "      <td>MEXICO</td>\n",
       "      <td>Colima</td>\n",
       "      <td>La Ticla</td>\n",
       "      <td>Free diving</td>\n",
       "      <td>Gustavo Ramos</td>\n",
       "      <td>M</td>\n",
       "      <td>NaN</td>\n",
       "      <td>Lacerations to leg &amp; hand shark PROVOKED INCIDENT</td>\n",
       "      <td>N</td>\n",
       "      <td>NaN</td>\n",
       "      <td>Tiger shark, 3m</td>\n",
       "      <td>A .Kipper</td>\n",
       "      <td>2018.06.04-Ramos.pdf</td>\n",
       "      <td>http://sharkattackfile.net/spreadsheets/pdf_di...</td>\n",
       "      <td>http://sharkattackfile.net/spreadsheets/pdf_di...</td>\n",
       "      <td>2018.06.04</td>\n",
       "      <td>2018.06.04</td>\n",
       "      <td>2018.06.04</td>\n",
       "      <td>NaN</td>\n",
       "      <td>NaN</td>\n",
       "    </tr>\n",
       "  </tbody>\n",
       "</table>\n",
       "</div>"
      ],
      "text/plain": [
       "   original_order         date    year        type    country  \\\n",
       "0            6303  25-Jun-2018  2018.0     Boating        USA   \n",
       "1            6302  18-Jun-2018  2018.0  Unprovoked        USA   \n",
       "2            6301  09-Jun-2018  2018.0     Invalid        USA   \n",
       "3            6300  08-Jun-2018  2018.0  Unprovoked  AUSTRALIA   \n",
       "4            6299  04-Jun-2018  2018.0    Provoked     MEXICO   \n",
       "\n",
       "              area                        location     activity  \\\n",
       "0       California     Oceanside, San Diego County     Paddling   \n",
       "1          Georgia  St. Simon Island, Glynn County     Standing   \n",
       "2           Hawaii                    Habush, Oahu      Surfing   \n",
       "3  New South Wales              Arrawarra Headland      Surfing   \n",
       "4           Colima                        La Ticla  Free diving   \n",
       "\n",
       "              name sex  age  \\\n",
       "0      Julie Wolfe   F   57   \n",
       "1  Adyson McNeely    F   11   \n",
       "2      John Denges   M   48   \n",
       "3             male   M  NaN   \n",
       "4   Gustavo Ramos    M  NaN   \n",
       "\n",
       "                                              injury fatal_y_n           time  \\\n",
       "0  No injury to occupant, outrigger canoe and pad...         N          18h00   \n",
       "1                         Minor injury to left thigh         N  14h00  -15h00   \n",
       "2       Injury to left lower leg from surfboard skeg         N          07h45   \n",
       "3                          Minor injury to lower leg         N            NaN   \n",
       "4  Lacerations to leg & hand shark PROVOKED INCIDENT         N            NaN   \n",
       "\n",
       "            specie          investigator_or_source                       pdf  \\\n",
       "0      White shark                R. Collier, GSAF      2018.06.25-Wolfe.pdf   \n",
       "1              NaN  K.McMurray, TrackingSharks.com    2018.06.18-McNeely.pdf   \n",
       "2              NaN  K.McMurray, TrackingSharks.com     2018.06.09-Denges.pdf   \n",
       "3        2 m shark                  B. Myatt, GSAF  2018.06.08-Arrawarra.pdf   \n",
       "4  Tiger shark, 3m                       A .Kipper      2018.06.04-Ramos.pdf   \n",
       "\n",
       "                                        href_formula  \\\n",
       "0  http://sharkattackfile.net/spreadsheets/pdf_di...   \n",
       "1  http://sharkattackfile.net/spreadsheets/pdf_di...   \n",
       "2  http://sharkattackfile.net/spreadsheets/pdf_di...   \n",
       "3  http://sharkattackfile.net/spreadsheets/pdf_di...   \n",
       "4  http://sharkattackfile.net/spreadsheets/pdf_di...   \n",
       "\n",
       "                                                href case_number  \\\n",
       "0  http://sharkattackfile.net/spreadsheets/pdf_di...  2018.06.25   \n",
       "1  http://sharkattackfile.net/spreadsheets/pdf_di...  2018.06.18   \n",
       "2  http://sharkattackfile.net/spreadsheets/pdf_di...  2018.06.09   \n",
       "3  http://sharkattackfile.net/spreadsheets/pdf_di...  2018.06.08   \n",
       "4  http://sharkattackfile.net/spreadsheets/pdf_di...  2018.06.04   \n",
       "\n",
       "  case_number_1 case_number_2 unnamed_22 unnamed_23  \n",
       "0    2018.06.25    2018.06.25        NaN        NaN  \n",
       "1    2018.06.18    2018.06.18        NaN        NaN  \n",
       "2    2018.06.09    2018.06.09        NaN        NaN  \n",
       "3    2018.06.08    2018.06.08        NaN        NaN  \n",
       "4    2018.06.04    2018.06.04        NaN        NaN  "
      ]
     },
     "execution_count": 506,
     "metadata": {},
     "output_type": "execute_result"
    }
   ],
   "source": [
    "colnams_new = ['original_order', 'date', 'year', 'type', 'country', 'area', 'location',\n",
    "       'activity', 'name', 'sex', 'age', 'injury', 'fatal_y_n', 'time',\n",
    "       'specie', 'investigator_or_source', 'pdf', 'href_formula', 'href', \"case_number\",\n",
    "       'case_number_1', 'case_number_2',  'unnamed_22',  'unnamed_23']\n",
    "      \n",
    "sharks4=sharks4[colnams_new]\n",
    "sharks4.head()"
   ]
  },
  {
   "cell_type": "code",
   "execution_count": 507,
   "id": "ecf56b0a",
   "metadata": {},
   "outputs": [
    {
     "name": "stdout",
     "output_type": "stream",
     "text": [
      "case_number duplicates: 16\n",
      "I will not do anything about it for the moment.\n"
     ]
    }
   ],
   "source": [
    "print(\"case_number duplicates:\", sharks4.duplicated(subset=[\"case_number\", \"case_number_1\",  \"case_number_2\"]).sum())\n",
    "print(\"I will not do anything about it for the moment.\")"
   ]
  },
  {
   "cell_type": "markdown",
   "id": "824dce76",
   "metadata": {},
   "source": [
    "### 4.4 Correct \"date\" column\n",
    "\n",
    "* 4.4.1 Remove \"Reported\"\n",
    "* 4.4.2 Transform to \"uncertain\" the cells including the following keywords:\n",
    "    \"Before\" or \"No date\", \" or \", \"A.D\"\n",
    "* 4.4.3 Clean terms as Ca.\n",
    "\n",
    "\n",
    "Drop \"uncertain\" values \n",
    "\n",
    "Keep it on-hold and continue cleaning other columns"
   ]
  },
  {
   "cell_type": "code",
   "execution_count": 610,
   "id": "b368c9db",
   "metadata": {},
   "outputs": [
    {
     "data": {
      "text/plain": [
       "0"
      ]
     },
     "execution_count": 610,
     "metadata": {},
     "output_type": "execute_result"
    }
   ],
   "source": [
    "sharks5=sharks4.copy()\n",
    "(sharks4[\"date\"] == \"uncertain\").sum()"
   ]
  },
  {
   "cell_type": "code",
   "execution_count": 611,
   "id": "363636d6",
   "metadata": {},
   "outputs": [
    {
     "data": {
      "text/plain": [
       "0"
      ]
     },
     "execution_count": 611,
     "metadata": {},
     "output_type": "execute_result"
    }
   ],
   "source": [
    "sharks5[[\"date\"]].sample(130).T\n",
    "\n",
    "sharks5[\"date\"]=sharks5[\"date\"].str.replace(\"Reported\", \"\")\n",
    "sharks5[\"date\"]=sharks5[\"date\"].str.replace(\"Reportd\", \"\")\n",
    "sharks5[\"date\"]=sharks5[\"date\"].str.replace(\"Mid\", \"\")\n",
    "\n",
    "sharks5[[\"date\"]].sample(130).T\n",
    "\n",
    "(sharks5[\"date\"] == \"uncertain\").sum()"
   ]
  },
  {
   "cell_type": "code",
   "execution_count": 612,
   "id": "953dfd8a",
   "metadata": {},
   "outputs": [
    {
     "data": {
      "text/plain": [
       "103"
      ]
     },
     "execution_count": 612,
     "metadata": {},
     "output_type": "execute_result"
    }
   ],
   "source": [
    "sharks5[\"date\"] = np.where(sharks5[\"date\"].str.contains(\"Before\"), \"uncertain\", sharks5[\"date\"])\n",
    "sharks5[\"date\"] = np.where(sharks5[\"date\"].str.contains(\"before\"), \"uncertain\", sharks5[\"date\"])\n",
    "sharks5[\"date\"] = np.where(sharks5[\"date\"].str.contains(\" or \"), \"uncertain\", sharks5[\"date\"])\n",
    "sharks5[\"date\"] = np.where(sharks5[\"date\"].str.contains(\"A.D\"), \"uncertain\", sharks5[\"date\"])\n",
    "sharks5[\"date\"] = np.where(sharks5[\"date\"].str.contains(\"B.C\"), \"uncertain\", sharks5[\"date\"])\n",
    "\n",
    "(sharks5[\"date\"] == \"uncertain\").sum()"
   ]
  },
  {
   "cell_type": "code",
   "execution_count": 613,
   "id": "3ee55b33",
   "metadata": {},
   "outputs": [],
   "source": [
    "sharks5[\"date\"] = sharks5[\"date\"].replace(\"Circa\", \"\")\n",
    "sharks5[\"date\"] = sharks5[\"date\"].replace(\"circa\", \"\")\n",
    "sharks5[\"date\"] = sharks5[\"date\"].replace(\"Ca. \", \"\")"
   ]
  },
  {
   "cell_type": "code",
   "execution_count": 614,
   "id": "68af5f6e",
   "metadata": {},
   "outputs": [
    {
     "name": "stdout",
     "output_type": "stream",
     "text": [
      " 103 rows dropped \n"
     ]
    }
   ],
   "source": [
    "BB=len(sharks5)\n",
    "sharks5=sharks5[sharks5[\"date\"]!=\"uncertain\"]\n",
    "AA=len(sharks5)\n",
    "print(f''' {BB-AA} rows dropped ''')\n",
    "\n",
    "sharks5.reset_index(drop=True, inplace=True)"
   ]
  },
  {
   "cell_type": "markdown",
   "id": "66416ea5",
   "metadata": {},
   "source": [
    "### 4.5 Correct \"type\" column\n",
    "\n",
    "* 4.5.1 Unify the following keywords: Boating == Boat == Boatomg\n",
    "\n",
    "* 4.5.2 Transform to uncertain's the cells including the following keywords: \n",
    "    Questionable, Invalid\n",
    "\n",
    "\n",
    "Drop uncertain values\n",
    "\n",
    "Keep it on-hold and continue cleaning other columns"
   ]
  },
  {
   "cell_type": "code",
   "execution_count": 615,
   "id": "a4ba3251",
   "metadata": {},
   "outputs": [],
   "source": [
    "sharks6=sharks5.copy()"
   ]
  },
  {
   "cell_type": "code",
   "execution_count": 616,
   "id": "509a4848",
   "metadata": {
    "scrolled": true
   },
   "outputs": [
    {
     "data": {
      "text/plain": [
       "Unprovoked      4505\n",
       "Provoked         566\n",
       "uncertain        545\n",
       "Boat             337\n",
       "Sea Disaster     235\n",
       "Name: type, dtype: int64"
      ]
     },
     "execution_count": 616,
     "metadata": {},
     "output_type": "execute_result"
    }
   ],
   "source": [
    "sharks6[\"type\"]=sharks6[\"type\"].str.replace(\"Boatomg\", \"Boat\")\n",
    "sharks6[\"type\"]=sharks6[\"type\"].str.replace(\"Boating\", \"Boat\")\n",
    "\n",
    "sharks6[\"type\"]=sharks6[\"type\"].str.replace(\"Questionable\", \"uncertain\")\n",
    "sharks6[\"type\"]=sharks6[\"type\"].str.replace(\"Invalid\", \"uncertain\")\n",
    "\n",
    "sharks6[[\"type\"]].sample(130).T\n",
    "\n",
    "sharks6[\"type\"].value_counts()"
   ]
  },
  {
   "cell_type": "code",
   "execution_count": 618,
   "id": "5e362dea",
   "metadata": {},
   "outputs": [
    {
     "name": "stdout",
     "output_type": "stream",
     "text": [
      " 545 rows dropped \n"
     ]
    }
   ],
   "source": [
    "BB=len(sharks6)\n",
    "sharks6=sharks6[sharks6[\"type\"]!=\"uncertain\"]\n",
    "AA=len(sharks6)\n",
    "print(f''' {BB-AA} rows dropped ''')\n",
    "\n",
    "sharks6.reset_index(drop=True, inplace=True)"
   ]
  },
  {
   "cell_type": "code",
   "execution_count": 622,
   "id": "f4da53e5",
   "metadata": {},
   "outputs": [
    {
     "data": {
      "text/plain": [
       "Unprovoked      4505\n",
       "Provoked         566\n",
       "Boat             337\n",
       "Sea Disaster     235\n",
       "Name: type, dtype: int64"
      ]
     },
     "metadata": {},
     "output_type": "display_data"
    },
    {
     "data": {
      "text/plain": [
       "(5647, 24)"
      ]
     },
     "execution_count": 622,
     "metadata": {},
     "output_type": "execute_result"
    }
   ],
   "source": [
    "display(sharks6[\"type\"].value_counts())\n",
    "sharks6.shape"
   ]
  },
  {
   "cell_type": "markdown",
   "id": "1c2dddc4",
   "metadata": {},
   "source": [
    "### 4.6 Correct \"country\" column\n",
    "\n",
    "* 4.6.1 Clean when the name start with spaces\n",
    "\n",
    "* 4.6.2 Transform to uncertain cells including \"/\", \"?\"\n",
    "\n",
    "\n",
    "Drop records referring to countries mentioned less than 20 times since \n",
    "these could noy be statistically compared against anything\n",
    "\n",
    "Drop \"uncertain\" and \"nan\" values\n",
    "\n",
    "Keep it on-hold and continue cleaning other columns"
   ]
  },
  {
   "cell_type": "code",
   "execution_count": 735,
   "id": "cbfafa1e",
   "metadata": {},
   "outputs": [],
   "source": [
    "sharks7=sharks6.copy()\n",
    "#sharks7[\"country\"].unique()"
   ]
  },
  {
   "cell_type": "code",
   "execution_count": 736,
   "id": "b812fea0",
   "metadata": {},
   "outputs": [],
   "source": [
    "count_list = []\n",
    "\n",
    "for i in sharks7[\"country\"]:\n",
    "    i = str(i).strip()\n",
    "    count_list.append(i)\n",
    "\n",
    "set(count_list)\n",
    "sharks7[\"country\"] = count_list"
   ]
  },
  {
   "cell_type": "code",
   "execution_count": 749,
   "id": "6e6847bc",
   "metadata": {},
   "outputs": [
    {
     "data": {
      "text/plain": [
       "array(['USA', 'AUSTRALIA', 'MEXICO', 'BRAZIL', 'SOUTH AFRICA', 'BAHAMAS',\n",
       "       'NEW CALEDONIA', 'CUBA', 'NEW ZEALAND', 'SPAIN', 'SOLOMON ISLANDS',\n",
       "       'JAPAN', 'EGYPT', 'REUNION', 'FRENCH POLYNESIA', 'PHILIPPINES',\n",
       "       'INDONESIA', 'MOZAMBIQUE', 'FIJI', 'PAPUA NEW GUINEA', 'JAMAICA',\n",
       "       'ITALY', 'PANAMA', 'CROATIA', 'ENGLAND', 'INDIA', 'HONG KONG',\n",
       "       'IRAN'], dtype=object)"
      ]
     },
     "execution_count": 749,
     "metadata": {},
     "output_type": "execute_result"
    }
   ],
   "source": [
    "sharks7[\"country\"].unique()[:60]"
   ]
  },
  {
   "cell_type": "code",
   "execution_count": 738,
   "id": "5dd958e3",
   "metadata": {},
   "outputs": [],
   "source": [
    "#sharks7[\"country\"]=sharks7[\"country\"].str.replace(\" \", \"\")\n",
    "\n",
    "sharks7[\"country\"] = np.where(sharks7[\"country\"].str.contains(\"\\\\?\"), \"uncertain\", sharks7[\"country\"])\n",
    "sharks7[\"country\"] = np.where(sharks7[\"country\"].str.contains(\"/\"), \"uncertain\", sharks7[\"country\"])\n",
    "sharks7[\"country\"] = np.where(sharks7[\"country\"].str.contains(\"Between\"), \"uncertain\", sharks7[\"country\"])\n"
   ]
  },
  {
   "cell_type": "code",
   "execution_count": 739,
   "id": "8adfd620",
   "metadata": {},
   "outputs": [
    {
     "data": {
      "image/png": "[encoded data removed]",
      "text/plain": [
       "<Figure size 640x480 with 1 Axes>"
      ]
     },
     "metadata": {},
     "output_type": "display_data"
    }
   ],
   "source": [
    "sharks7[\"country\"].value_counts().hist(bins=50)\n",
    "sharks7[\"country\"].value_counts().describe()\n",
    "\n",
    "freqlist=dict(sharks7[\"country\"].value_counts())"
   ]
  },
  {
   "cell_type": "code",
   "execution_count": 748,
   "id": "89a6800a",
   "metadata": {},
   "outputs": [
    {
     "name": "stdout",
     "output_type": "stream",
     "text": [
      "['PACIFIC OCEAN', 'GREECE', 'TONGA', 'COSTA RICA', 'ATLANTIC OCEAN', 'VIETNAM', 'SOUTH ATLANTIC OCEAN', 'VANUATU', 'IRAQ', 'BERMUDA', 'SRI LANKA', 'TURKEY', 'FRANCE', 'VENEZUELA', 'MARSHALL ISLANDS', 'MAURITIUS', 'CANADA', 'NEW GUINEA', 'UNITED KINGDOM', 'SENEGAL']\n"
     ]
    },
    {
     "data": {
      "text/plain": [
       "154"
      ]
     },
     "execution_count": 748,
     "metadata": {},
     "output_type": "execute_result"
    }
   ],
   "source": [
    "keys_freq20 = [key for key, value in freqlist.items() if value < 20]\n",
    "\n",
    "print(keys_freq20[:20])\n",
    "len(keys_freq20)"
   ]
  },
  {
   "cell_type": "code",
   "execution_count": 741,
   "id": "ff6f9a9f",
   "metadata": {
    "scrolled": true
   },
   "outputs": [
    {
     "name": "stdout",
     "output_type": "stream",
     "text": [
      " 49 rows dropped \n"
     ]
    }
   ],
   "source": [
    "BB=len(sharks7)\n",
    "sharks7=sharks7[sharks7[\"country\"]!=\"uncertain\"]\n",
    "sharks7=sharks7[sharks7[\"country\"]!=\"nan\"]\n",
    "AA=len(sharks7)\n",
    "print(f''' {BB-AA} rows dropped ''')\n",
    "\n",
    "sharks7.reset_index(drop=True, inplace=True)"
   ]
  },
  {
   "cell_type": "code",
   "execution_count": 750,
   "id": "95c71351",
   "metadata": {
    "scrolled": true
   },
   "outputs": [
    {
     "name": "stdout",
     "output_type": "stream",
     "text": [
      " 0 rows dropped \n"
     ]
    },
    {
     "data": {
      "text/plain": [
       "USA                 2022\n",
       "AUSTRALIA           1199\n",
       "SOUTH AFRICA         509\n",
       "PAPUA NEW GUINEA     131\n",
       "NEW ZEALAND          114\n",
       "BRAZIL               102\n",
       "BAHAMAS              102\n",
       "MEXICO                78\n",
       "REUNION               60\n",
       "FIJI                  59\n",
       "PHILIPPINES           58\n",
       "ITALY                 56\n",
       "NEW CALEDONIA         52\n",
       "CUBA                  40\n",
       "MOZAMBIQUE            39\n",
       "EGYPT                 37\n",
       "INDIA                 35\n",
       "SPAIN                 33\n",
       "PANAMA                30\n",
       "JAPAN                 29\n",
       "SOLOMON ISLANDS       29\n",
       "IRAN                  28\n",
       "CROATIA               27\n",
       "JAMAICA               24\n",
       "HONG KONG             24\n",
       "FRENCH POLYNESIA      23\n",
       "ENGLAND               21\n",
       "INDONESIA             21\n",
       "Name: country, dtype: int64"
      ]
     },
     "execution_count": 750,
     "metadata": {},
     "output_type": "execute_result"
    }
   ],
   "source": [
    "BB=len(sharks7)\n",
    "\n",
    "for i in keys_freq20:\n",
    "    sharks7=sharks7[sharks7[\"country\"] != i]\n",
    "\n",
    "AA=len(sharks7)\n",
    "print(f''' {BB-AA} rows dropped ''')\n",
    "\n",
    "sharks7.reset_index(drop=True, inplace=True)\n",
    "sharks7[\"country\"].value_counts()"
   ]
  },
  {
   "cell_type": "markdown",
   "id": "6d2f0c00",
   "metadata": {},
   "source": [
    "###  Ignore columns:  area ,\tlocation ,\tactivity, sex"
   ]
  },
  {
   "cell_type": "markdown",
   "id": "6e30fbf4",
   "metadata": {},
   "source": [
    "### 4.7 Correct \"age\" column\n",
    "\n",
    "\n",
    "* 4.7.1  Drop NAN's\n",
    "\n",
    "* 4.7.2 Transform to \"uncertain\" the cells including NON DIGIT\"\n",
    "\n",
    "* 4.7.3 Drop \"uncertain\" values \n",
    "\n",
    "Keep it on-hold and continue cleaning other columns\n"
   ]
  },
  {
   "cell_type": "code",
   "execution_count": 854,
   "id": "db8040f2",
   "metadata": {},
   "outputs": [],
   "source": [
    "sharks8=sharks7.copy()\n",
    "AA=len(sharks8)"
   ]
  },
  {
   "cell_type": "code",
   "execution_count": 855,
   "id": "72355ec3",
   "metadata": {},
   "outputs": [
    {
     "name": "stdout",
     "output_type": "stream",
     "text": [
      " 2011 NaN rows dropped \n"
     ]
    },
    {
     "data": {
      "text/plain": [
       "18          133\n",
       "17          132\n",
       "19          128\n",
       "15          127\n",
       "16          123\n",
       "           ... \n",
       "45            1\n",
       "21 or 26      1\n",
       "20            1\n",
       ">50           1\n",
       "2½            1\n",
       "Name: age, Length: 139, dtype: int64"
      ]
     },
     "execution_count": 855,
     "metadata": {},
     "output_type": "execute_result"
    }
   ],
   "source": [
    "sharks8.head()\n",
    "\n",
    "sharks8.dropna(subset=['age'], inplace=True)\n",
    "sharks8.shape\n",
    "\n",
    "BB=len(sharks8)\n",
    "print(f''' {AA-BB} NaN rows dropped ''')\n",
    "\n",
    "sharks8.reset_index(drop=True, inplace=True)\n",
    "\n",
    "sharks8[\"age\"].value_counts()"
   ]
  },
  {
   "cell_type": "code",
   "execution_count": 927,
   "id": "c14bbc6f",
   "metadata": {},
   "outputs": [
    {
     "name": "stdout",
     "output_type": "stream",
     "text": [
      " 0 non numeric rows dropped \n"
     ]
    },
    {
     "data": {
      "text/plain": [
       "2885"
      ]
     },
     "execution_count": 927,
     "metadata": {},
     "output_type": "execute_result"
    }
   ],
   "source": [
    "sharks8[\"age\"] = np.where(sharks8[\"age\"].str.isdigit()==True, sharks8[\"age\"],  \"uncertain\")\n",
    "AA=len(sharks8)\n",
    "sharks8=sharks8[sharks8[\"age\"]!=\"uncertain\"]\n",
    "BB=len(sharks8)\n",
    "\n",
    "print(f''' {AA-BB} non numeric rows dropped ''')\n",
    "\n",
    "sharks8.reset_index(drop=True, inplace=True)\n",
    "\n",
    "len(sharks8[\"age\"])"
   ]
  },
  {
   "cell_type": "markdown",
   "id": "0858e3a0",
   "metadata": {},
   "source": [
    "### 4.8 Correct \"fatal_y_n\" column\n",
    "\n",
    "\n",
    "* 4.8.1 Transform to \"UNKNOWN\" the cells = \" N\", \"M\" and \"2017\"\n",
    "\n",
    "* 4.8.2 Drop \"UNKNOWN\" values \n",
    "\n",
    "Keep it on-hold and continue cleaning other columns"
   ]
  },
  {
   "cell_type": "code",
   "execution_count": 869,
   "id": "9b8b7e99",
   "metadata": {},
   "outputs": [],
   "source": [
    "sharks9=sharks8.copy()"
   ]
  },
  {
   "cell_type": "code",
   "execution_count": 930,
   "id": "aee8723c",
   "metadata": {
    "scrolled": true
   },
   "outputs": [
    {
     "data": {
      "text/plain": [
       "N    2361\n",
       "Y     505\n",
       "Name: fatal_y_n, dtype: int64"
      ]
     },
     "metadata": {},
     "output_type": "display_data"
    },
    {
     "data": {
      "text/plain": [
       "(2869, 24)"
      ]
     },
     "execution_count": 930,
     "metadata": {},
     "output_type": "execute_result"
    }
   ],
   "source": [
    "sharks9[\"fatal_y_n\"].value_counts()\n",
    "sharks9[\"fatal_y_n\"]=sharks9[\"fatal_y_n\"].str.replace(\" N\", \"UNKNOWN\")\n",
    "sharks9[\"fatal_y_n\"]=sharks9[\"fatal_y_n\"].str.replace(\"M\", \"UNKNOWN\")\n",
    "sharks9[\"fatal_y_n\"]=sharks9[\"fatal_y_n\"].str.replace(\"2017\", \"UNKNOWN\")\n",
    "sharks9 = sharks9[sharks9[\"fatal_y_n\"]!=\"UNKNOWN\"]\n",
    "display(sharks9[\"fatal_y_n\"].value_counts())\n",
    "sharks9.shape"
   ]
  },
  {
   "cell_type": "markdown",
   "id": "e784f7d7",
   "metadata": {},
   "source": [
    "<span style=\"font-size:18px; color: #e74c3c\"><b> AT THIS POINT I HAVE A RELATIVELY CLEAN DATAFRAME WITH: 2869 rows and 24 columns!!\n",
    "    \n",
    "LAST CLEANING PROCESSES WITHOUT DROPING ROWS:\n",
    "\n",
    "* 4.9 Clean misspelled SEX column\n",
    "    \n",
    "* 4.10 Transform to \" \" long ACTIVITY descriptions (i.e., > word by cell)\n",
    "    \n",
    "* 4.11 Clean \"time\" column by replacing \"h\" for nothing and keeping only values with 4 digits \n",
    "  \n",
    "* 4.12 Clean \"injury\" column to keep only the top 5 types of lessions\n",
    "    \n",
    "    \n",
    "I WILL IGNORE THE FOLLOWING COLUMNS:\n",
    "Reason: too dirty or uninformative\n",
    "   \n",
    "    time \tspecie \tinvestigator_or_source \tpdf \thref_formula \thref\n",
    "    \n",
    "    \n",
    "TO CONCLUDE I WILL:\n",
    "    \n",
    "* 4.13 Transform redundant columns into constant NA columns\n",
    "    \n",
    "        case_number case_number_1 case_number_2 unnamed_22 unnamed_23\n",
    "\n",
    "* 4.14 Downcast the dataframe to decrease memory use\n",
    "    \n",
    "* Save this file as first task ---> data/sharks_clean1.csv\n"
   ]
  },
  {
   "cell_type": "markdown",
   "id": "2cba45f3",
   "metadata": {},
   "source": [
    "### 4.9 Clean misspelled SEX column"
   ]
  },
  {
   "cell_type": "code",
   "execution_count": 934,
   "id": "a9125433",
   "metadata": {},
   "outputs": [],
   "source": [
    "sharks10=sharks9.copy()\n"
   ]
  },
  {
   "cell_type": "code",
   "execution_count": 941,
   "id": "174e8e3d",
   "metadata": {},
   "outputs": [
    {
     "data": {
      "text/plain": [
       "M    2472\n",
       "F     373\n",
       "Name: sex, dtype: int64"
      ]
     },
     "execution_count": 941,
     "metadata": {},
     "output_type": "execute_result"
    }
   ],
   "source": [
    "sharks10[\"sex\"].unique()\n",
    "sharks10[\"sex\"]=sharks10[\"sex\"].str.replace(\"M \", \"M\")\n",
    "sharks10[\"sex\"]=sharks10[\"sex\"].str.replace(\"lli\", \"UNKNOWN\")\n",
    "sharks10[\"sex\"]=sharks10[\"sex\"].str.replace(\"nan\", \"UNKNOWN\")\n",
    "sharks10 = sharks10[sharks10[\"sex\"]!=\"UNKNOWN\"]\n",
    "sharks10[\"sex\"].value_counts()"
   ]
  },
  {
   "cell_type": "markdown",
   "id": "bc8e8d6c",
   "metadata": {},
   "source": [
    "### 4.10 Clean long ACTIVITY descriptions (i.e., > word by cell)"
   ]
  },
  {
   "cell_type": "code",
   "execution_count": 978,
   "id": "ab599de9",
   "metadata": {},
   "outputs": [
    {
     "data": {
      "text/plain": [
       "Surfing                                                         716\n",
       "Swimming                                                        441\n",
       "Spearfishing                                                    177\n",
       "Wading                                                          106\n",
       "Fishing                                                          99\n",
       "                                                               ... \n",
       "On a float                                                        1\n",
       "Abalone diving using Hookah (resting on the surface)              1\n",
       "Abalone diving using Hookah (near calving whales)                 1\n",
       "Playing / standing                                                1\n",
       "Fishing from dory, shark upset boat & he fell into the water      1\n",
       "Name: activity, Length: 599, dtype: int64"
      ]
     },
     "execution_count": 978,
     "metadata": {},
     "output_type": "execute_result"
    }
   ],
   "source": [
    "sharks11=sharks10.copy()\n",
    "sharks11[\"activity\"].value_counts()"
   ]
  },
  {
   "cell_type": "code",
   "execution_count": 981,
   "id": "e8c84a56",
   "metadata": {},
   "outputs": [
    {
     "data": {
      "text/plain": [
       "Surfing         716\n",
       "Swimming        441\n",
       "Spearfishing    177\n",
       "Wading          106\n",
       "Fishing          99\n",
       "Name: activity, dtype: int64"
      ]
     },
     "execution_count": 981,
     "metadata": {},
     "output_type": "execute_result"
    }
   ],
   "source": [
    "sharks11[\"activity\"][sharks11[\"activity\"].str.contains(\" \")| sharks11[\"activity\"].isna()]=np.nan\n",
    "sharks11[\"activity\"].value_counts().head()"
   ]
  },
  {
   "cell_type": "markdown",
   "id": "e6f474bc",
   "metadata": {},
   "source": [
    "### 4.11 Clean \"time\" column "
   ]
  },
  {
   "cell_type": "code",
   "execution_count": 986,
   "id": "9ff0d728",
   "metadata": {
    "scrolled": true
   },
   "outputs": [
    {
     "data": {
      "text/plain": [
       "array(['18h00', '14h00  -15h00', 'Late afternoon', nan, '17h00', '14h00',\n",
       "       'Morning', '15h00', '09h30', '09h40', '08h00', '17h35', '15h30',\n",
       "       '07h30', '19h00, Dusk', 'Night', '16h00', '12h00', '13h45',\n",
       "       '23h30'], dtype=object)"
      ]
     },
     "execution_count": 986,
     "metadata": {},
     "output_type": "execute_result"
    }
   ],
   "source": [
    "sharks11=sharks10.copy()\n",
    "sharks11[\"time\"].unique()[:20]"
   ]
  },
  {
   "cell_type": "code",
   "execution_count": 993,
   "id": "29266b25",
   "metadata": {},
   "outputs": [
    {
     "data": {
      "text/html": [
       "<div>\n",
       "<style scoped>\n",
       "    .dataframe tbody tr th:only-of-type {\n",
       "        vertical-align: middle;\n",
       "    }\n",
       "\n",
       "    .dataframe tbody tr th {\n",
       "        vertical-align: top;\n",
       "    }\n",
       "\n",
       "    .dataframe thead th {\n",
       "        text-align: right;\n",
       "    }\n",
       "</style>\n",
       "<table border=\"1\" class=\"dataframe\">\n",
       "  <thead>\n",
       "    <tr style=\"text-align: right;\">\n",
       "      <th></th>\n",
       "      <th>original_order</th>\n",
       "      <th>date</th>\n",
       "      <th>year</th>\n",
       "      <th>type</th>\n",
       "      <th>country</th>\n",
       "      <th>area</th>\n",
       "      <th>location</th>\n",
       "      <th>activity</th>\n",
       "      <th>name</th>\n",
       "      <th>sex</th>\n",
       "      <th>age</th>\n",
       "      <th>injury</th>\n",
       "      <th>fatal_y_n</th>\n",
       "      <th>time</th>\n",
       "      <th>specie</th>\n",
       "      <th>investigator_or_source</th>\n",
       "      <th>pdf</th>\n",
       "      <th>href_formula</th>\n",
       "      <th>href</th>\n",
       "      <th>case_number</th>\n",
       "      <th>case_number_1</th>\n",
       "      <th>case_number_2</th>\n",
       "      <th>unnamed_22</th>\n",
       "      <th>unnamed_23</th>\n",
       "    </tr>\n",
       "  </thead>\n",
       "  <tbody>\n",
       "    <tr>\n",
       "      <th>0</th>\n",
       "      <td>6303</td>\n",
       "      <td>25-Jun-2018</td>\n",
       "      <td>2018.0</td>\n",
       "      <td>Boat</td>\n",
       "      <td>USA</td>\n",
       "      <td>California</td>\n",
       "      <td>Oceanside, San Diego County</td>\n",
       "      <td>Paddling</td>\n",
       "      <td>Julie Wolfe</td>\n",
       "      <td>F</td>\n",
       "      <td>57</td>\n",
       "      <td>No injury to occupant, outrigger canoe and pad...</td>\n",
       "      <td>N</td>\n",
       "      <td>1800</td>\n",
       "      <td>White shark</td>\n",
       "      <td>R. Collier, GSAF</td>\n",
       "      <td>2018.06.25-Wolfe.pdf</td>\n",
       "      <td>http://sharkattackfile.net/spreadsheets/pdf_di...</td>\n",
       "      <td>http://sharkattackfile.net/spreadsheets/pdf_di...</td>\n",
       "      <td>2018.06.25</td>\n",
       "      <td>2018.06.25</td>\n",
       "      <td>2018.06.25</td>\n",
       "      <td>NaN</td>\n",
       "      <td>NaN</td>\n",
       "    </tr>\n",
       "    <tr>\n",
       "      <th>1</th>\n",
       "      <td>6302</td>\n",
       "      <td>18-Jun-2018</td>\n",
       "      <td>2018.0</td>\n",
       "      <td>Unprovoked</td>\n",
       "      <td>USA</td>\n",
       "      <td>Georgia</td>\n",
       "      <td>St. Simon Island, Glynn County</td>\n",
       "      <td>Standing</td>\n",
       "      <td>Adyson McNeely</td>\n",
       "      <td>F</td>\n",
       "      <td>11</td>\n",
       "      <td>Minor injury to left thigh</td>\n",
       "      <td>N</td>\n",
       "      <td>NaN</td>\n",
       "      <td>NaN</td>\n",
       "      <td>K.McMurray, TrackingSharks.com</td>\n",
       "      <td>2018.06.18-McNeely.pdf</td>\n",
       "      <td>http://sharkattackfile.net/spreadsheets/pdf_di...</td>\n",
       "      <td>http://sharkattackfile.net/spreadsheets/pdf_di...</td>\n",
       "      <td>2018.06.18</td>\n",
       "      <td>2018.06.18</td>\n",
       "      <td>2018.06.18</td>\n",
       "      <td>NaN</td>\n",
       "      <td>NaN</td>\n",
       "    </tr>\n",
       "    <tr>\n",
       "      <th>2</th>\n",
       "      <td>6297</td>\n",
       "      <td>03-Jun-2018</td>\n",
       "      <td>2018.0</td>\n",
       "      <td>Unprovoked</td>\n",
       "      <td>BRAZIL</td>\n",
       "      <td>Pernambuco</td>\n",
       "      <td>Piedade Beach, Recife</td>\n",
       "      <td>Swimming</td>\n",
       "      <td>Jose Ernesto da Silva</td>\n",
       "      <td>M</td>\n",
       "      <td>18</td>\n",
       "      <td>FATAL</td>\n",
       "      <td>Y</td>\n",
       "      <td>NaN</td>\n",
       "      <td>Tiger shark</td>\n",
       "      <td>Diario de Pernambuco, 6/4/2018</td>\n",
       "      <td>2018.06.03.a-daSilva.pdf</td>\n",
       "      <td>http://sharkattackfile.net/spreadsheets/pdf_di...</td>\n",
       "      <td>http://sharkattackfile.net/spreadsheets/pdf_di...</td>\n",
       "      <td>2018.06.03.a</td>\n",
       "      <td>2018.06.03.a</td>\n",
       "      <td>2018.06.03.a</td>\n",
       "      <td>NaN</td>\n",
       "      <td>NaN</td>\n",
       "    </tr>\n",
       "    <tr>\n",
       "      <th>3</th>\n",
       "      <td>6296</td>\n",
       "      <td>27-May-2018</td>\n",
       "      <td>2018.0</td>\n",
       "      <td>Unprovoked</td>\n",
       "      <td>USA</td>\n",
       "      <td>Florida</td>\n",
       "      <td>Lighhouse Point Park, Ponce Inlet, Volusia County</td>\n",
       "      <td>Fishing</td>\n",
       "      <td>male</td>\n",
       "      <td>M</td>\n",
       "      <td>52</td>\n",
       "      <td>Minor injury to foot. PROVOKED INCIDENT</td>\n",
       "      <td>N</td>\n",
       "      <td>NaN</td>\n",
       "      <td>Lemon shark, 3'</td>\n",
       "      <td>K. McMurray, TrackingSharks.com</td>\n",
       "      <td>2018.05.27-Ponce.pdf</td>\n",
       "      <td>http://sharkattackfile.net/spreadsheets/pdf_di...</td>\n",
       "      <td>http://sharkattackfile.net/spreadsheets/pdf_di...</td>\n",
       "      <td>2018.05.27</td>\n",
       "      <td>2018.05.27</td>\n",
       "      <td>2018.05.27</td>\n",
       "      <td>NaN</td>\n",
       "      <td>NaN</td>\n",
       "    </tr>\n",
       "    <tr>\n",
       "      <th>4</th>\n",
       "      <td>6295</td>\n",
       "      <td>26-May-2018</td>\n",
       "      <td>2018.0</td>\n",
       "      <td>Unprovoked</td>\n",
       "      <td>USA</td>\n",
       "      <td>Florida</td>\n",
       "      <td>Cocoa Beach, Brevard  County</td>\n",
       "      <td>Walking</td>\n",
       "      <td>Cody High</td>\n",
       "      <td>M</td>\n",
       "      <td>15</td>\n",
       "      <td>Lower left leg bitten</td>\n",
       "      <td>N</td>\n",
       "      <td>1700</td>\n",
       "      <td>Bull shark, 6'</td>\n",
       "      <td>K.McMurray, TrackingSharks.com</td>\n",
       "      <td>2018.05.26.b-High.pdf</td>\n",
       "      <td>http://sharkattackfile.net/spreadsheets/pdf_di...</td>\n",
       "      <td>http://sharkattackfile.net/spreadsheets/pdf_di...</td>\n",
       "      <td>2018.05.26.b</td>\n",
       "      <td>2018.05.26.b</td>\n",
       "      <td>2018.05.26.b</td>\n",
       "      <td>NaN</td>\n",
       "      <td>NaN</td>\n",
       "    </tr>\n",
       "  </tbody>\n",
       "</table>\n",
       "</div>"
      ],
      "text/plain": [
       "   original_order         date    year        type country        area  \\\n",
       "0            6303  25-Jun-2018  2018.0        Boat     USA  California   \n",
       "1            6302  18-Jun-2018  2018.0  Unprovoked     USA     Georgia   \n",
       "2            6297  03-Jun-2018  2018.0  Unprovoked  BRAZIL  Pernambuco   \n",
       "3            6296  27-May-2018  2018.0  Unprovoked     USA     Florida   \n",
       "4            6295  26-May-2018  2018.0  Unprovoked     USA     Florida   \n",
       "\n",
       "                                            location  activity  \\\n",
       "0                        Oceanside, San Diego County  Paddling   \n",
       "1                     St. Simon Island, Glynn County  Standing   \n",
       "2                              Piedade Beach, Recife  Swimming   \n",
       "3  Lighhouse Point Park, Ponce Inlet, Volusia County   Fishing   \n",
       "4                       Cocoa Beach, Brevard  County   Walking   \n",
       "\n",
       "                     name sex age  \\\n",
       "0             Julie Wolfe   F  57   \n",
       "1         Adyson McNeely    F  11   \n",
       "2  Jose Ernesto da Silva    M  18   \n",
       "3                    male   M  52   \n",
       "4               Cody High   M  15   \n",
       "\n",
       "                                              injury fatal_y_n  time  \\\n",
       "0  No injury to occupant, outrigger canoe and pad...         N  1800   \n",
       "1                         Minor injury to left thigh         N   NaN   \n",
       "2                                              FATAL         Y   NaN   \n",
       "3            Minor injury to foot. PROVOKED INCIDENT         N   NaN   \n",
       "4                              Lower left leg bitten         N  1700   \n",
       "\n",
       "            specie           investigator_or_source                       pdf  \\\n",
       "0      White shark                 R. Collier, GSAF      2018.06.25-Wolfe.pdf   \n",
       "1              NaN   K.McMurray, TrackingSharks.com    2018.06.18-McNeely.pdf   \n",
       "2      Tiger shark   Diario de Pernambuco, 6/4/2018  2018.06.03.a-daSilva.pdf   \n",
       "3  Lemon shark, 3'  K. McMurray, TrackingSharks.com      2018.05.27-Ponce.pdf   \n",
       "4   Bull shark, 6'   K.McMurray, TrackingSharks.com     2018.05.26.b-High.pdf   \n",
       "\n",
       "                                        href_formula  \\\n",
       "0  http://sharkattackfile.net/spreadsheets/pdf_di...   \n",
       "1  http://sharkattackfile.net/spreadsheets/pdf_di...   \n",
       "2  http://sharkattackfile.net/spreadsheets/pdf_di...   \n",
       "3  http://sharkattackfile.net/spreadsheets/pdf_di...   \n",
       "4  http://sharkattackfile.net/spreadsheets/pdf_di...   \n",
       "\n",
       "                                                href   case_number  \\\n",
       "0  http://sharkattackfile.net/spreadsheets/pdf_di...    2018.06.25   \n",
       "1  http://sharkattackfile.net/spreadsheets/pdf_di...    2018.06.18   \n",
       "2  http://sharkattackfile.net/spreadsheets/pdf_di...  2018.06.03.a   \n",
       "3  http://sharkattackfile.net/spreadsheets/pdf_di...    2018.05.27   \n",
       "4  http://sharkattackfile.net/spreadsheets/pdf_di...  2018.05.26.b   \n",
       "\n",
       "  case_number_1 case_number_2 unnamed_22 unnamed_23  \n",
       "0    2018.06.25    2018.06.25        NaN        NaN  \n",
       "1    2018.06.18    2018.06.18        NaN        NaN  \n",
       "2  2018.06.03.a  2018.06.03.a        NaN        NaN  \n",
       "3    2018.05.27    2018.05.27        NaN        NaN  \n",
       "4  2018.05.26.b  2018.05.26.b        NaN        NaN  "
      ]
     },
     "execution_count": 993,
     "metadata": {},
     "output_type": "execute_result"
    }
   ],
   "source": [
    "sharks11[\"time\"]=sharks11[\"time\"].str.replace(\"h\", \"\")\n",
    "sharks11[\"time\"]=sharks11[\"time\"].str.replace(\"-\", \"\")\n",
    "sharks11[\"time\"]=sharks11[\"time\"].str.replace(\"Nigt\", \"\") #strings of 4 letters\n",
    "sharks11[\"time\"]=sharks11[\"time\"].str.replace(\"A.M.\", \"\") #strings of 4 letters\n",
    "sharks11[\"time\"]=sharks11[\"time\"].str.replace(\"P.M.\", \"\") #strings of 4 letters\n",
    "sharks11[\"time\"]=sharks11[\"time\"].str.replace(\"Dusk\", \"\") #strings of 4 letters\n",
    "\n",
    "sharks11[\"time\"].unique()\n",
    "\n",
    "alist=list(sharks11[\"time\"])\n",
    "tehres=[len(str(x))!=4 for x in alist]\n",
    "\n",
    "sharks11[\"time\"][tehres]=np.nan\n",
    "sharks11[\"time\"].unique()[:20]"
   ]
  },
  {
   "cell_type": "markdown",
   "id": "321dc7b2",
   "metadata": {},
   "source": [
    "### 4.12 Clean \"injury\" column to keep only the top 5 types of lessions"
   ]
  },
  {
   "cell_type": "code",
   "execution_count": 1002,
   "id": "ed86a8a5",
   "metadata": {},
   "outputs": [],
   "source": [
    "sharks12=sharks11.copy()"
   ]
  },
  {
   "cell_type": "code",
   "execution_count": 1010,
   "id": "c97cbf1c",
   "metadata": {},
   "outputs": [
    {
     "data": {
      "text/plain": [
       "0         NaN\n",
       "1         NaN\n",
       "2       FATAL\n",
       "3         NaN\n",
       "4         NaN\n",
       "        ...  \n",
       "2880      NaN\n",
       "2881      NaN\n",
       "2882    FATAL\n",
       "2883      NaN\n",
       "2884      NaN\n",
       "Name: injury, Length: 2869, dtype: object"
      ]
     },
     "execution_count": 1010,
     "metadata": {},
     "output_type": "execute_result"
    }
   ],
   "source": [
    "theinj=list(sharks12[\"injury\"].value_counts()[:5].index)\n",
    "theinj\n",
    "\n",
    "new_inj=[]\n",
    "for i in sharks12[\"injury\"]:\n",
    "    if i not in theinj:\n",
    "        new_inj.append(np.nan)\n",
    "    elif i in theinj:\n",
    "        new_inj.append(i)\n",
    "    else:\n",
    "        pass\n",
    "\n",
    "sharks12[\"injury\"]=new_inj"
   ]
  },
  {
   "cell_type": "markdown",
   "id": "9adfb51c",
   "metadata": {},
   "source": [
    "### 4.13 Transform redundant columns into constant NA columns"
   ]
  },
  {
   "cell_type": "code",
   "execution_count": 1016,
   "id": "64e1a2ee",
   "metadata": {},
   "outputs": [],
   "source": [
    "sharks13=sharks12.copy()\n",
    "\n",
    "sharks13[[\"case_number\", \"case_number_1\" ,\"case_number_2\", \"unnamed_22\", \"unnamed_23\"]] = np.nan"
   ]
  },
  {
   "cell_type": "markdown",
   "id": "9eca504c",
   "metadata": {},
   "source": [
    "### Last check on NA's distribution"
   ]
  },
  {
   "cell_type": "code",
   "execution_count": 1017,
   "id": "d686ea63",
   "metadata": {
    "scrolled": true
   },
   "outputs": [
    {
     "data": {
      "image/png": "[encoded data removed]",
      "text/plain": [
       "<Figure size 1000x600 with 1 Axes>"
      ]
     },
     "metadata": {},
     "output_type": "display_data"
    }
   ],
   "source": [
    "mlg.na_heatmap(sharks13)"
   ]
  },
  {
   "cell_type": "markdown",
   "id": "16250c12",
   "metadata": {},
   "source": [
    "I WOULD CLEARLY DROP MULTIPLE COLUMNS AND EVEN ROWS BUT THE EXERCICE ASKS TO KEEP 24 COLUMNS AND 2500 ROWS"
   ]
  },
  {
   "cell_type": "markdown",
   "id": "ab01fee7",
   "metadata": {},
   "source": [
    "### 4.14 Downcast the dataframe to decrease memory use"
   ]
  },
  {
   "cell_type": "code",
   "execution_count": 1021,
   "id": "e683e131",
   "metadata": {},
   "outputs": [
    {
     "name": "stdout",
     "output_type": "stream",
     "text": [
      "\n",
      "\n",
      "By downcasting the dataframe we saved:  -309.25390625 memory Kbs\n",
      "\n",
      "\n",
      "<class 'pandas.core.frame.DataFrame'>\n",
      "Int64Index: 2869 entries, 0 to 2884\n",
      "Data columns (total 24 columns):\n",
      " #   Column                  Non-Null Count  Dtype  \n",
      "---  ------                  --------------  -----  \n",
      " 0   original_order          2869 non-null   Int64  \n",
      " 1   date                    2869 non-null   object \n",
      " 2   year                    2869 non-null   float64\n",
      " 3   type                    2868 non-null   object \n",
      " 4   country                 2869 non-null   object \n",
      " 5   area                    2823 non-null   object \n",
      " 6   location                2788 non-null   object \n",
      " 7   activity                2779 non-null   object \n",
      " 8   name                    2864 non-null   object \n",
      " 9   sex                     2846 non-null   object \n",
      " 10  age                     2869 non-null   object \n",
      " 11  injury                  401 non-null    object \n",
      " 12  fatal_y_n               2866 non-null   object \n",
      " 13  time                    1743 non-null   object \n",
      " 14  specie                  1780 non-null   object \n",
      " 15  investigator_or_source  2866 non-null   object \n",
      " 16  pdf                     2869 non-null   object \n",
      " 17  href_formula            2868 non-null   object \n",
      " 18  href                    2869 non-null   object \n",
      " 19  case_number             0 non-null      float64\n",
      " 20  case_number_1           0 non-null      float64\n",
      " 21  case_number_2           0 non-null      float64\n",
      " 22  unnamed_22              0 non-null      float64\n",
      " 23  unnamed_23              0 non-null      float64\n",
      "dtypes: Int64(1), float64(6), object(17)\n",
      "memory usage: 3.7 MB\n"
     ]
    },
    {
     "data": {
      "text/plain": [
       "None"
      ]
     },
     "metadata": {},
     "output_type": "display_data"
    },
    {
     "name": "stdout",
     "output_type": "stream",
     "text": [
      "<class 'pandas.core.frame.DataFrame'>\n",
      "Int64Index: 2869 entries, 0 to 2884\n",
      "Data columns (total 24 columns):\n",
      " #   Column                  Non-Null Count  Dtype   \n",
      "---  ------                  --------------  -----   \n",
      " 0   original_order          2869 non-null   Int64   \n",
      " 1   date                    2869 non-null   category\n",
      " 2   year                    2869 non-null   float32 \n",
      " 3   type                    2868 non-null   category\n",
      " 4   country                 2869 non-null   category\n",
      " 5   area                    2823 non-null   category\n",
      " 6   location                2788 non-null   category\n",
      " 7   activity                2779 non-null   category\n",
      " 8   name                    2864 non-null   category\n",
      " 9   sex                     2846 non-null   category\n",
      " 10  age                     2869 non-null   category\n",
      " 11  injury                  401 non-null    category\n",
      " 12  fatal_y_n               2866 non-null   category\n",
      " 13  time                    1743 non-null   category\n",
      " 14  specie                  1780 non-null   category\n",
      " 15  investigator_or_source  2866 non-null   category\n",
      " 16  pdf                     2869 non-null   category\n",
      " 17  href_formula            2868 non-null   category\n",
      " 18  href                    2869 non-null   category\n",
      " 19  case_number             0 non-null      float32 \n",
      " 20  case_number_1           0 non-null      float32 \n",
      " 21  case_number_2           0 non-null      float32 \n",
      " 22  unnamed_22              0 non-null      float32 \n",
      " 23  unnamed_23              0 non-null      float32 \n",
      "dtypes: Int64(1), category(17), float32(6)\n",
      "memory usage: 2.6 MB\n"
     ]
    },
    {
     "data": {
      "text/plain": [
       "None"
      ]
     },
     "metadata": {},
     "output_type": "display_data"
    },
    {
     "ename": "NameError",
     "evalue": "name 'to_csv' is not defined",
     "output_type": "error",
     "traceback": [
      "\u001b[0;31m---------------------------------------------------------------------------\u001b[0m",
      "\u001b[0;31mNameError\u001b[0m                                 Traceback (most recent call last)",
      "\u001b[0;32m/var/folders/_2/56h_hw1n3bd79mkhskq2r__40000gn/T/ipykernel_65052/3645314756.py\u001b[0m in \u001b[0;36m<module>\u001b[0;34m\u001b[0m\n\u001b[1;32m     14\u001b[0m \u001b[0;34m\u001b[0m\u001b[0m\n\u001b[1;32m     15\u001b[0m \u001b[0;34m\u001b[0m\u001b[0m\n\u001b[0;32m---> 16\u001b[0;31m \u001b[0mto_csv\u001b[0m\u001b[0;34m(\u001b[0m\u001b[0;34m'../data/sharks_clean.csv'\u001b[0m\u001b[0;34m,\u001b[0m \u001b[0mindex\u001b[0m\u001b[0;34m=\u001b[0m\u001b[0;32mFalse\u001b[0m\u001b[0;34m)\u001b[0m\u001b[0;34m\u001b[0m\u001b[0;34m\u001b[0m\u001b[0m\n\u001b[0m",
      "\u001b[0;31mNameError\u001b[0m: name 'to_csv' is not defined"
     ]
    }
   ],
   "source": [
    "sharks_clean=sharks13.copy()\n",
    "\n",
    "sharks_clean=mlg.reduc_mem(sharks_clean)\n",
    "\n",
    "AA=sharks13.memory_usage().sum()/ 1024  # Convert bytes to kilobytes\n",
    "BB=sharks_clean.memory_usage().sum()/ 1024  # Convert bytes to kilobytes\n",
    "\n",
    "print(\"\\n\")\n",
    "print('By downcasting the dataframe we saved: ', AA - BB, \"memory Kbs\")\n",
    "print(\"\\n\")\n",
    "\n",
    "display(sharks13.info(memory_usage='deep'))\n",
    "display(sharks_clean.info(memory_usage='deep'))\n"
   ]
  },
  {
   "cell_type": "code",
   "execution_count": 1024,
   "id": "144574ce",
   "metadata": {},
   "outputs": [],
   "source": [
    "sharks_clean.to_csv('../data/sharks_clean.csv', index=False)"
   ]
  },
  {
   "cell_type": "markdown",
   "id": "d4fa58c2",
   "metadata": {},
   "source": [
    "I usually comment the line code used to save the file as safety measure to avoid overwriting issues"
   ]
  },
  {
   "cell_type": "code",
   "execution_count": null,
   "id": "718a671d",
   "metadata": {
    "scrolled": true
   },
   "outputs": [],
   "source": []
  },
  {
   "cell_type": "code",
   "execution_count": null,
   "id": "32cafbff",
   "metadata": {},
   "outputs": [],
   "source": []
  },
  {
   "cell_type": "code",
   "execution_count": null,
   "id": "6dbe37e6",
   "metadata": {},
   "outputs": [],
   "source": []
  }
 ],
 "metadata": {
  "kernelspec": {
   "display_name": "env37",
   "language": "python",
   "name": "env37"
  },
  "language_info": {
   "codemirror_mode": {
    "name": "ipython",
    "version": 3
   },
   "file_extension": ".py",
   "mimetype": "text/x-python",
   "name": "python",
   "nbconvert_exporter": "python",
   "pygments_lexer": "ipython3",
   "version": "3.7.16"
  }
 },
 "nbformat": 4,
 "nbformat_minor": 5
}
